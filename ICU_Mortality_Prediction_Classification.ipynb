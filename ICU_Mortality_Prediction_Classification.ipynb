{
  "nbformat": 4,
  "nbformat_minor": 0,
  "metadata": {
    "kernelspec": {
      "display_name": "Python 3",
      "language": "python",
      "name": "python3"
    },
    "language_info": {
      "codemirror_mode": {
        "name": "ipython",
        "version": 3
      },
      "file_extension": ".py",
      "mimetype": "text/x-python",
      "name": "python",
      "nbconvert_exporter": "python",
      "pygments_lexer": "ipython3",
      "version": "3.7.4"
    },
    "colab": {
      "name": "ICU_Mortality_Prediction_Classification.ipynb",
      "provenance": [],
      "include_colab_link": true
    }
  },
  "cells": [
    {
      "cell_type": "markdown",
      "metadata": {
        "id": "view-in-github",
        "colab_type": "text"
      },
      "source": [
        "<a href=\"https://colab.research.google.com/github/vdvran/ICU/blob/master/ICU_Mortality_Prediction_Classification.ipynb\" target=\"_parent\"><img src=\"https://colab.research.google.com/assets/colab-badge.svg\" alt=\"Open In Colab\"/></a>"
      ]
    },
    {
      "cell_type": "markdown",
      "metadata": {
        "id": "FK_BCskU9ZU7",
        "colab_type": "text"
      },
      "source": [
        "## ICU Mortality Prediction Classification\n"
      ]
    },
    {
      "cell_type": "code",
      "metadata": {
        "id": "Z_OPwM0r9ZU8",
        "colab_type": "code",
        "colab": {}
      },
      "source": [
        "# Import libraries\n",
        "import numpy as np\n",
        "import matplotlib\n",
        "import scipy.stats as ss\n",
        "import matplotlib.pyplot as plt\n",
        "import pandas as pd\n",
        "import seaborn as sns\n",
        "from plotly.offline import init_notebook_mode,iplot\n",
        "import plotly.graph_objects as go\n",
        "from sklearn.impute import SimpleImputer\n",
        "from sklearn.model_selection import train_test_split\n",
        "from sklearn.feature_selection import SelectKBest\n",
        "from sklearn.feature_selection import f_classif\n",
        "from sklearn.feature_selection import RFE\n",
        "from sklearn.ensemble import ExtraTreesClassifier\n",
        "from sklearn.preprocessing import LabelEncoder\n",
        "from sklearn import preprocessing"
      ],
      "execution_count": 0,
      "outputs": []
    },
    {
      "cell_type": "code",
      "metadata": {
        "id": "g2eQrq-u9ZVA",
        "colab_type": "code",
        "colab": {},
        "outputId": "402a9240-1af3-4254-cffa-07b52c55eef2"
      },
      "source": [
        "from google.colab import drive\n",
        "drive.mount('/content/drive', force_remount=True)"
      ],
      "execution_count": 0,
      "outputs": [
        {
          "output_type": "execute_result",
          "data": {
            "text/plain": [
              "\"from google.colab import drive\\ndrive.mount('/content/drive', force_remount=True)\""
            ]
          },
          "metadata": {
            "tags": []
          },
          "execution_count": 2
        }
      ]
    },
    {
      "cell_type": "code",
      "metadata": {
        "id": "EGXMUTnG9ZVE",
        "colab_type": "code",
        "colab": {}
      },
      "source": [
        "data = pd.read_csv(\"/content/drive/My Drive/pre_ICU_Mortality_Prediction.csv\")\n",
        "'''data =pd.read_csv(\"pre_ICU_Mortality_Prediction.csv\")'''"
      ],
      "execution_count": 0,
      "outputs": []
    },
    {
      "cell_type": "code",
      "metadata": {
        "id": "STLU17_v9ZVH",
        "colab_type": "code",
        "colab": {},
        "outputId": "e86edb46-3908-4198-8674-3cb5667410c0"
      },
      "source": [
        "data=data.drop(['Unnamed: 0'], axis=1)\n",
        "data.head()"
      ],
      "execution_count": 0,
      "outputs": [
        {
          "output_type": "execute_result",
          "data": {
            "text/html": [
              "<div>\n",
              "<style scoped>\n",
              "    .dataframe tbody tr th:only-of-type {\n",
              "        vertical-align: middle;\n",
              "    }\n",
              "\n",
              "    .dataframe tbody tr th {\n",
              "        vertical-align: top;\n",
              "    }\n",
              "\n",
              "    .dataframe thead th {\n",
              "        text-align: right;\n",
              "    }\n",
              "</style>\n",
              "<table border=\"1\" class=\"dataframe\">\n",
              "  <thead>\n",
              "    <tr style=\"text-align: right;\">\n",
              "      <th></th>\n",
              "      <th>hospital_death</th>\n",
              "      <th>age</th>\n",
              "      <th>bmi</th>\n",
              "      <th>elective_surgery</th>\n",
              "      <th>height</th>\n",
              "      <th>pre_icu_los_days</th>\n",
              "      <th>readmission_status</th>\n",
              "      <th>weight</th>\n",
              "      <th>apache_2_diagnosis</th>\n",
              "      <th>apache_3j_diagnosis</th>\n",
              "      <th>...</th>\n",
              "      <th>apache_2_bodysystem_Cardiovascular</th>\n",
              "      <th>apache_2_bodysystem_Gastrointestinal</th>\n",
              "      <th>apache_2_bodysystem_Haematologic</th>\n",
              "      <th>apache_2_bodysystem_Metabolic</th>\n",
              "      <th>apache_2_bodysystem_Neurologic</th>\n",
              "      <th>apache_2_bodysystem_Renal/Genitourinary</th>\n",
              "      <th>apache_2_bodysystem_Respiratory</th>\n",
              "      <th>apache_2_bodysystem_Trauma</th>\n",
              "      <th>apache_2_bodysystem_Undefined Diagnoses</th>\n",
              "      <th>apache_2_bodysystem_Undefined diagnoses</th>\n",
              "    </tr>\n",
              "  </thead>\n",
              "  <tbody>\n",
              "    <tr>\n",
              "      <td>0</td>\n",
              "      <td>0.0</td>\n",
              "      <td>68.0</td>\n",
              "      <td>22.730000</td>\n",
              "      <td>0.0</td>\n",
              "      <td>180.3</td>\n",
              "      <td>0.541667</td>\n",
              "      <td>0.0</td>\n",
              "      <td>73.9</td>\n",
              "      <td>113.0</td>\n",
              "      <td>502.01</td>\n",
              "      <td>...</td>\n",
              "      <td>1</td>\n",
              "      <td>0</td>\n",
              "      <td>0</td>\n",
              "      <td>0</td>\n",
              "      <td>0</td>\n",
              "      <td>0</td>\n",
              "      <td>0</td>\n",
              "      <td>0</td>\n",
              "      <td>0</td>\n",
              "      <td>0</td>\n",
              "    </tr>\n",
              "    <tr>\n",
              "      <td>1</td>\n",
              "      <td>0.0</td>\n",
              "      <td>77.0</td>\n",
              "      <td>27.420000</td>\n",
              "      <td>0.0</td>\n",
              "      <td>160.0</td>\n",
              "      <td>0.927778</td>\n",
              "      <td>0.0</td>\n",
              "      <td>70.2</td>\n",
              "      <td>108.0</td>\n",
              "      <td>203.01</td>\n",
              "      <td>...</td>\n",
              "      <td>0</td>\n",
              "      <td>0</td>\n",
              "      <td>0</td>\n",
              "      <td>0</td>\n",
              "      <td>0</td>\n",
              "      <td>0</td>\n",
              "      <td>1</td>\n",
              "      <td>0</td>\n",
              "      <td>0</td>\n",
              "      <td>0</td>\n",
              "    </tr>\n",
              "    <tr>\n",
              "      <td>2</td>\n",
              "      <td>0.0</td>\n",
              "      <td>25.0</td>\n",
              "      <td>31.950000</td>\n",
              "      <td>0.0</td>\n",
              "      <td>172.7</td>\n",
              "      <td>0.000694</td>\n",
              "      <td>0.0</td>\n",
              "      <td>95.3</td>\n",
              "      <td>122.0</td>\n",
              "      <td>703.03</td>\n",
              "      <td>...</td>\n",
              "      <td>0</td>\n",
              "      <td>0</td>\n",
              "      <td>0</td>\n",
              "      <td>1</td>\n",
              "      <td>0</td>\n",
              "      <td>0</td>\n",
              "      <td>0</td>\n",
              "      <td>0</td>\n",
              "      <td>0</td>\n",
              "      <td>0</td>\n",
              "    </tr>\n",
              "    <tr>\n",
              "      <td>3</td>\n",
              "      <td>0.0</td>\n",
              "      <td>81.0</td>\n",
              "      <td>22.640000</td>\n",
              "      <td>1.0</td>\n",
              "      <td>165.1</td>\n",
              "      <td>0.000694</td>\n",
              "      <td>0.0</td>\n",
              "      <td>61.7</td>\n",
              "      <td>203.0</td>\n",
              "      <td>1206.03</td>\n",
              "      <td>...</td>\n",
              "      <td>1</td>\n",
              "      <td>0</td>\n",
              "      <td>0</td>\n",
              "      <td>0</td>\n",
              "      <td>0</td>\n",
              "      <td>0</td>\n",
              "      <td>0</td>\n",
              "      <td>0</td>\n",
              "      <td>0</td>\n",
              "      <td>0</td>\n",
              "    </tr>\n",
              "    <tr>\n",
              "      <td>4</td>\n",
              "      <td>0.0</td>\n",
              "      <td>19.0</td>\n",
              "      <td>27.654655</td>\n",
              "      <td>0.0</td>\n",
              "      <td>188.0</td>\n",
              "      <td>0.073611</td>\n",
              "      <td>0.0</td>\n",
              "      <td>80.3</td>\n",
              "      <td>119.0</td>\n",
              "      <td>601.01</td>\n",
              "      <td>...</td>\n",
              "      <td>0</td>\n",
              "      <td>0</td>\n",
              "      <td>0</td>\n",
              "      <td>0</td>\n",
              "      <td>0</td>\n",
              "      <td>0</td>\n",
              "      <td>0</td>\n",
              "      <td>1</td>\n",
              "      <td>0</td>\n",
              "      <td>0</td>\n",
              "    </tr>\n",
              "  </tbody>\n",
              "</table>\n",
              "<p>5 rows × 110 columns</p>\n",
              "</div>"
            ],
            "text/plain": [
              "   hospital_death   age        bmi  elective_surgery  height  \\\n",
              "0             0.0  68.0  22.730000               0.0   180.3   \n",
              "1             0.0  77.0  27.420000               0.0   160.0   \n",
              "2             0.0  25.0  31.950000               0.0   172.7   \n",
              "3             0.0  81.0  22.640000               1.0   165.1   \n",
              "4             0.0  19.0  27.654655               0.0   188.0   \n",
              "\n",
              "   pre_icu_los_days  readmission_status  weight  apache_2_diagnosis  \\\n",
              "0          0.541667                 0.0    73.9               113.0   \n",
              "1          0.927778                 0.0    70.2               108.0   \n",
              "2          0.000694                 0.0    95.3               122.0   \n",
              "3          0.000694                 0.0    61.7               203.0   \n",
              "4          0.073611                 0.0    80.3               119.0   \n",
              "\n",
              "   apache_3j_diagnosis  ...  apache_2_bodysystem_Cardiovascular  \\\n",
              "0               502.01  ...                                   1   \n",
              "1               203.01  ...                                   0   \n",
              "2               703.03  ...                                   0   \n",
              "3              1206.03  ...                                   1   \n",
              "4               601.01  ...                                   0   \n",
              "\n",
              "   apache_2_bodysystem_Gastrointestinal  apache_2_bodysystem_Haematologic  \\\n",
              "0                                     0                                 0   \n",
              "1                                     0                                 0   \n",
              "2                                     0                                 0   \n",
              "3                                     0                                 0   \n",
              "4                                     0                                 0   \n",
              "\n",
              "   apache_2_bodysystem_Metabolic  apache_2_bodysystem_Neurologic  \\\n",
              "0                              0                               0   \n",
              "1                              0                               0   \n",
              "2                              1                               0   \n",
              "3                              0                               0   \n",
              "4                              0                               0   \n",
              "\n",
              "   apache_2_bodysystem_Renal/Genitourinary  apache_2_bodysystem_Respiratory  \\\n",
              "0                                        0                                0   \n",
              "1                                        0                                1   \n",
              "2                                        0                                0   \n",
              "3                                        0                                0   \n",
              "4                                        0                                0   \n",
              "\n",
              "   apache_2_bodysystem_Trauma  apache_2_bodysystem_Undefined Diagnoses  \\\n",
              "0                           0                                        0   \n",
              "1                           0                                        0   \n",
              "2                           0                                        0   \n",
              "3                           0                                        0   \n",
              "4                           1                                        0   \n",
              "\n",
              "   apache_2_bodysystem_Undefined diagnoses  \n",
              "0                                        0  \n",
              "1                                        0  \n",
              "2                                        0  \n",
              "3                                        0  \n",
              "4                                        0  \n",
              "\n",
              "[5 rows x 110 columns]"
            ]
          },
          "metadata": {
            "tags": []
          },
          "execution_count": 43
        }
      ]
    },
    {
      "cell_type": "markdown",
      "metadata": {
        "id": "QWe3c9At9ZVK",
        "colab_type": "text"
      },
      "source": [
        "# Content\n",
        "\n",
        "**1. General info**\n",
        "\n",
        "    a) df visualisation (ICU Mortality Prediction Visualization Notebook)\n",
        "  \n",
        "    b)  drop variables with a lot of missing values (ICU Mortality Prediction Preprocessing Notebook)\n",
        "  \n",
        "  \n",
        "**2. Remove outliers** (ICU Mortality Prediction Preprocessing Notebook)\n",
        "\n",
        "\n",
        "**3. Replace missing values** (ICU Mortality Prediction Preprocessing Notebook)\n",
        "\n",
        "\n",
        "**4. One Hot Encoding** (ICU Mortality Prediction Preprocessing Notebook)\n",
        "\n",
        "\n",
        "**5. Normalisation** (ICU Mortality Prediction Classification Notebook)\n",
        "\n",
        "    a) x, y and train_test_split \n",
        "\n",
        "    b) Standarisation \n",
        "\n",
        "**6. Feature Selection** (ICU Mortality Prediction Classification Notebook)\n",
        "\n",
        "    a) Feature importance\n",
        "\n",
        "    b) Algoritmo univariante --> Prueba F de Fisher\n",
        "\n",
        "    c) Eliminación Recursiva de atributos --> \n",
        " \n",
        " **7. Unbalanced** (ICU Mortality Prediction Classification Notebook)\n",
        "    \n",
        "    a) Undersampling\n",
        " \n",
        " **8. Classification** (ICU Mortality Prediction Classification Notebook)\n",
        " \n",
        "    a) LDA (Fisher)\n",
        " \n",
        "    b) Mayoría de votos\n",
        " \n",
        "    c) Boosted trees\n",
        "   \n",
        "    d) Random forest\n",
        "    \n",
        " **9.Comparison**(ICU Mortality Prediction Classification Notebook)"
      ]
    },
    {
      "cell_type": "markdown",
      "metadata": {
        "id": "uzM_tuJh9ZVL",
        "colab_type": "text"
      },
      "source": [
        "\n",
        "---------\n"
      ]
    },
    {
      "cell_type": "markdown",
      "metadata": {
        "id": "-iyUOjTg9ZVM",
        "colab_type": "text"
      },
      "source": [
        "# Normalisation"
      ]
    },
    {
      "cell_type": "markdown",
      "metadata": {
        "id": "ZuVL2tcL9ZVM",
        "colab_type": "text"
      },
      "source": [
        "## Train and Test"
      ]
    },
    {
      "cell_type": "code",
      "metadata": {
        "id": "RN-mvVB89ZVN",
        "colab_type": "code",
        "colab": {}
      },
      "source": [
        "y = data['hospital_death']\n",
        "x = data.loc[:, data.columns != 'hospital_death']\n",
        "x_train, x_test, y_train, y_test = train_test_split(x, y, test_size=0.2, random_state=1)"
      ],
      "execution_count": 0,
      "outputs": []
    },
    {
      "cell_type": "code",
      "metadata": {
        "id": "WIapddTY9ZVP",
        "colab_type": "code",
        "colab": {}
      },
      "source": [
        "names = x_train.columns\n",
        "\n",
        "scaler = preprocessing.StandardScaler()\n",
        "\n",
        "#x_train = scaler.fit_transform(x_train)\n",
        "x_train = pd.DataFrame(x_train, columns=names)\n",
        "df_y = pd.DataFrame(y_train)"
      ],
      "execution_count": 0,
      "outputs": []
    },
    {
      "cell_type": "markdown",
      "metadata": {
        "id": "rIgmKHW79ZVU",
        "colab_type": "text"
      },
      "source": [
        "-------"
      ]
    },
    {
      "cell_type": "markdown",
      "metadata": {
        "id": "cTfrDg719ZVU",
        "colab_type": "text"
      },
      "source": [
        "# Feature selection"
      ]
    },
    {
      "cell_type": "markdown",
      "metadata": {
        "id": "QhvgAvP29ZVV",
        "colab_type": "text"
      },
      "source": [
        "## Feature importance"
      ]
    },
    {
      "cell_type": "code",
      "metadata": {
        "id": "XsK-iUO59ZVV",
        "colab_type": "code",
        "colab": {},
        "outputId": "5fdb225a-8688-43b3-de4f-6aefec9f9c2b"
      },
      "source": [
        "threshold = 0.9\n",
        "# Absolute value correlation matrix\n",
        "corr_matrix = x.corr().abs()\n",
        "corr_matrix.head()"
      ],
      "execution_count": 0,
      "outputs": [
        {
          "output_type": "execute_result",
          "data": {
            "text/html": [
              "<div>\n",
              "<style scoped>\n",
              "    .dataframe tbody tr th:only-of-type {\n",
              "        vertical-align: middle;\n",
              "    }\n",
              "\n",
              "    .dataframe tbody tr th {\n",
              "        vertical-align: top;\n",
              "    }\n",
              "\n",
              "    .dataframe thead th {\n",
              "        text-align: right;\n",
              "    }\n",
              "</style>\n",
              "<table border=\"1\" class=\"dataframe\">\n",
              "  <thead>\n",
              "    <tr style=\"text-align: right;\">\n",
              "      <th></th>\n",
              "      <th>age</th>\n",
              "      <th>bmi</th>\n",
              "      <th>elective_surgery</th>\n",
              "      <th>height</th>\n",
              "      <th>pre_icu_los_days</th>\n",
              "      <th>readmission_status</th>\n",
              "      <th>weight</th>\n",
              "      <th>apache_2_diagnosis</th>\n",
              "      <th>apache_3j_diagnosis</th>\n",
              "      <th>apache_post_operative</th>\n",
              "      <th>...</th>\n",
              "      <th>apache_2_bodysystem_Cardiovascular</th>\n",
              "      <th>apache_2_bodysystem_Gastrointestinal</th>\n",
              "      <th>apache_2_bodysystem_Haematologic</th>\n",
              "      <th>apache_2_bodysystem_Metabolic</th>\n",
              "      <th>apache_2_bodysystem_Neurologic</th>\n",
              "      <th>apache_2_bodysystem_Renal/Genitourinary</th>\n",
              "      <th>apache_2_bodysystem_Respiratory</th>\n",
              "      <th>apache_2_bodysystem_Trauma</th>\n",
              "      <th>apache_2_bodysystem_Undefined Diagnoses</th>\n",
              "      <th>apache_2_bodysystem_Undefined diagnoses</th>\n",
              "    </tr>\n",
              "  </thead>\n",
              "  <tbody>\n",
              "    <tr>\n",
              "      <td>age</td>\n",
              "      <td>1.000000</td>\n",
              "      <td>0.086472</td>\n",
              "      <td>0.064523</td>\n",
              "      <td>0.109526</td>\n",
              "      <td>0.049163</td>\n",
              "      <td>NaN</td>\n",
              "      <td>0.126515</td>\n",
              "      <td>0.020766</td>\n",
              "      <td>0.056479</td>\n",
              "      <td>0.056585</td>\n",
              "      <td>...</td>\n",
              "      <td>0.155293</td>\n",
              "      <td>0.050252</td>\n",
              "      <td>0.005158</td>\n",
              "      <td>0.286280</td>\n",
              "      <td>0.008042</td>\n",
              "      <td>0.030091</td>\n",
              "      <td>0.024166</td>\n",
              "      <td>0.083385</td>\n",
              "      <td>0.028262</td>\n",
              "      <td>0.027576</td>\n",
              "    </tr>\n",
              "    <tr>\n",
              "      <td>bmi</td>\n",
              "      <td>0.086472</td>\n",
              "      <td>1.000000</td>\n",
              "      <td>0.015975</td>\n",
              "      <td>0.052753</td>\n",
              "      <td>0.000160</td>\n",
              "      <td>NaN</td>\n",
              "      <td>0.873599</td>\n",
              "      <td>0.024247</td>\n",
              "      <td>0.006238</td>\n",
              "      <td>0.015509</td>\n",
              "      <td>...</td>\n",
              "      <td>0.038734</td>\n",
              "      <td>0.022638</td>\n",
              "      <td>0.007969</td>\n",
              "      <td>0.048204</td>\n",
              "      <td>0.025929</td>\n",
              "      <td>0.039787</td>\n",
              "      <td>0.018304</td>\n",
              "      <td>0.048079</td>\n",
              "      <td>0.017027</td>\n",
              "      <td>0.031674</td>\n",
              "    </tr>\n",
              "    <tr>\n",
              "      <td>elective_surgery</td>\n",
              "      <td>0.064523</td>\n",
              "      <td>0.015975</td>\n",
              "      <td>1.000000</td>\n",
              "      <td>0.023238</td>\n",
              "      <td>0.131843</td>\n",
              "      <td>NaN</td>\n",
              "      <td>0.026468</td>\n",
              "      <td>0.356357</td>\n",
              "      <td>0.775327</td>\n",
              "      <td>0.908247</td>\n",
              "      <td>...</td>\n",
              "      <td>0.066016</td>\n",
              "      <td>0.099491</td>\n",
              "      <td>0.036999</td>\n",
              "      <td>0.133043</td>\n",
              "      <td>0.034251</td>\n",
              "      <td>0.043393</td>\n",
              "      <td>0.069350</td>\n",
              "      <td>0.034419</td>\n",
              "      <td>0.028278</td>\n",
              "      <td>0.398976</td>\n",
              "    </tr>\n",
              "    <tr>\n",
              "      <td>height</td>\n",
              "      <td>0.109526</td>\n",
              "      <td>0.052753</td>\n",
              "      <td>0.023238</td>\n",
              "      <td>1.000000</td>\n",
              "      <td>0.008589</td>\n",
              "      <td>NaN</td>\n",
              "      <td>0.386629</td>\n",
              "      <td>0.001860</td>\n",
              "      <td>0.014964</td>\n",
              "      <td>0.024890</td>\n",
              "      <td>...</td>\n",
              "      <td>0.001075</td>\n",
              "      <td>0.010554</td>\n",
              "      <td>0.010751</td>\n",
              "      <td>0.014140</td>\n",
              "      <td>0.013265</td>\n",
              "      <td>0.027789</td>\n",
              "      <td>0.025513</td>\n",
              "      <td>0.041862</td>\n",
              "      <td>0.004965</td>\n",
              "      <td>0.041981</td>\n",
              "    </tr>\n",
              "    <tr>\n",
              "      <td>pre_icu_los_days</td>\n",
              "      <td>0.049163</td>\n",
              "      <td>0.000160</td>\n",
              "      <td>0.131843</td>\n",
              "      <td>0.008589</td>\n",
              "      <td>1.000000</td>\n",
              "      <td>NaN</td>\n",
              "      <td>0.003593</td>\n",
              "      <td>0.077699</td>\n",
              "      <td>0.087556</td>\n",
              "      <td>0.125819</td>\n",
              "      <td>...</td>\n",
              "      <td>0.003831</td>\n",
              "      <td>0.035804</td>\n",
              "      <td>0.002740</td>\n",
              "      <td>0.067671</td>\n",
              "      <td>0.040215</td>\n",
              "      <td>0.005358</td>\n",
              "      <td>0.045748</td>\n",
              "      <td>0.045316</td>\n",
              "      <td>0.007551</td>\n",
              "      <td>0.084121</td>\n",
              "    </tr>\n",
              "  </tbody>\n",
              "</table>\n",
              "<p>5 rows × 109 columns</p>\n",
              "</div>"
            ],
            "text/plain": [
              "                       age       bmi  elective_surgery    height  \\\n",
              "age               1.000000  0.086472          0.064523  0.109526   \n",
              "bmi               0.086472  1.000000          0.015975  0.052753   \n",
              "elective_surgery  0.064523  0.015975          1.000000  0.023238   \n",
              "height            0.109526  0.052753          0.023238  1.000000   \n",
              "pre_icu_los_days  0.049163  0.000160          0.131843  0.008589   \n",
              "\n",
              "                  pre_icu_los_days  readmission_status    weight  \\\n",
              "age                       0.049163                 NaN  0.126515   \n",
              "bmi                       0.000160                 NaN  0.873599   \n",
              "elective_surgery          0.131843                 NaN  0.026468   \n",
              "height                    0.008589                 NaN  0.386629   \n",
              "pre_icu_los_days          1.000000                 NaN  0.003593   \n",
              "\n",
              "                  apache_2_diagnosis  apache_3j_diagnosis  \\\n",
              "age                         0.020766             0.056479   \n",
              "bmi                         0.024247             0.006238   \n",
              "elective_surgery            0.356357             0.775327   \n",
              "height                      0.001860             0.014964   \n",
              "pre_icu_los_days            0.077699             0.087556   \n",
              "\n",
              "                  apache_post_operative  ...  \\\n",
              "age                            0.056585  ...   \n",
              "bmi                            0.015509  ...   \n",
              "elective_surgery               0.908247  ...   \n",
              "height                         0.024890  ...   \n",
              "pre_icu_los_days               0.125819  ...   \n",
              "\n",
              "                  apache_2_bodysystem_Cardiovascular  \\\n",
              "age                                         0.155293   \n",
              "bmi                                         0.038734   \n",
              "elective_surgery                            0.066016   \n",
              "height                                      0.001075   \n",
              "pre_icu_los_days                            0.003831   \n",
              "\n",
              "                  apache_2_bodysystem_Gastrointestinal  \\\n",
              "age                                           0.050252   \n",
              "bmi                                           0.022638   \n",
              "elective_surgery                              0.099491   \n",
              "height                                        0.010554   \n",
              "pre_icu_los_days                              0.035804   \n",
              "\n",
              "                  apache_2_bodysystem_Haematologic  \\\n",
              "age                                       0.005158   \n",
              "bmi                                       0.007969   \n",
              "elective_surgery                          0.036999   \n",
              "height                                    0.010751   \n",
              "pre_icu_los_days                          0.002740   \n",
              "\n",
              "                  apache_2_bodysystem_Metabolic  \\\n",
              "age                                    0.286280   \n",
              "bmi                                    0.048204   \n",
              "elective_surgery                       0.133043   \n",
              "height                                 0.014140   \n",
              "pre_icu_los_days                       0.067671   \n",
              "\n",
              "                  apache_2_bodysystem_Neurologic  \\\n",
              "age                                     0.008042   \n",
              "bmi                                     0.025929   \n",
              "elective_surgery                        0.034251   \n",
              "height                                  0.013265   \n",
              "pre_icu_los_days                        0.040215   \n",
              "\n",
              "                  apache_2_bodysystem_Renal/Genitourinary  \\\n",
              "age                                              0.030091   \n",
              "bmi                                              0.039787   \n",
              "elective_surgery                                 0.043393   \n",
              "height                                           0.027789   \n",
              "pre_icu_los_days                                 0.005358   \n",
              "\n",
              "                  apache_2_bodysystem_Respiratory  apache_2_bodysystem_Trauma  \\\n",
              "age                                      0.024166                    0.083385   \n",
              "bmi                                      0.018304                    0.048079   \n",
              "elective_surgery                         0.069350                    0.034419   \n",
              "height                                   0.025513                    0.041862   \n",
              "pre_icu_los_days                         0.045748                    0.045316   \n",
              "\n",
              "                  apache_2_bodysystem_Undefined Diagnoses  \\\n",
              "age                                              0.028262   \n",
              "bmi                                              0.017027   \n",
              "elective_surgery                                 0.028278   \n",
              "height                                           0.004965   \n",
              "pre_icu_los_days                                 0.007551   \n",
              "\n",
              "                  apache_2_bodysystem_Undefined diagnoses  \n",
              "age                                              0.027576  \n",
              "bmi                                              0.031674  \n",
              "elective_surgery                                 0.398976  \n",
              "height                                           0.041981  \n",
              "pre_icu_los_days                                 0.084121  \n",
              "\n",
              "[5 rows x 109 columns]"
            ]
          },
          "metadata": {
            "tags": []
          },
          "execution_count": 11
        }
      ]
    },
    {
      "cell_type": "code",
      "metadata": {
        "id": "JQog3qAu9ZVX",
        "colab_type": "code",
        "colab": {},
        "outputId": "57c497c2-887e-4b7f-97f6-956398216565"
      },
      "source": [
        "# Upper triangle of correlations\n",
        "upper = corr_matrix.where(np.triu(np.ones(corr_matrix.shape), k=1).astype(np.bool))\n",
        "upper.head()\n",
        "# Select columns with correlations above threshold\n",
        "to_drop = [column for column in upper.columns if any(upper[column] > threshold)]\n",
        "print('There are %d columns to remove.' % (len(to_drop)))\n",
        "#Drop the columns with high correlations\n",
        "x = x.drop(columns = to_drop)"
      ],
      "execution_count": 0,
      "outputs": [
        {
          "output_type": "stream",
          "text": [
            "There are 24 columns to remove.\n"
          ],
          "name": "stdout"
        }
      ]
    },
    {
      "cell_type": "code",
      "metadata": {
        "id": "RFx6cLNB9ZVa",
        "colab_type": "code",
        "colab": {},
        "outputId": "72941fcd-76ed-41d3-bbad-7c98541e3523"
      },
      "source": [
        "# Train missing values (in percent)\n",
        "train_missing = (x.isnull().sum() / len(x)).sort_values(ascending = False)\n",
        "train_missing.head()\n",
        "train_missing = train_missing.index[train_missing > 0.75]\n",
        "print('There are %d columns with more than 75%% missing values' % len(train_missing))\n",
        "x = x.drop(columns = train_missing)"
      ],
      "execution_count": 0,
      "outputs": [
        {
          "output_type": "stream",
          "text": [
            "There are 0 columns with more than 75% missing values\n"
          ],
          "name": "stdout"
        }
      ]
    },
    {
      "cell_type": "code",
      "metadata": {
        "id": "atM3HT1I9ZVd",
        "colab_type": "code",
        "colab": {}
      },
      "source": [
        "feature_importances = np.zeros(x.shape[1])"
      ],
      "execution_count": 0,
      "outputs": []
    },
    {
      "cell_type": "code",
      "metadata": {
        "id": "ZS61pTmr9ZVj",
        "colab_type": "code",
        "colab": {}
      },
      "source": [
        "import lightgbm as lgb\n",
        "\n",
        "model = lgb.LGBMClassifier(objective='binary', boosting_type = 'goss', n_estimators = 10000, class_weight = 'balanced')"
      ],
      "execution_count": 0,
      "outputs": []
    },
    {
      "cell_type": "code",
      "metadata": {
        "id": "WvgY5LbE9ZVn",
        "colab_type": "code",
        "colab": {},
        "outputId": "7b4b4afc-2df8-41b3-c1a8-48b2f89294f3"
      },
      "source": [
        "for i in range(2):\n",
        "    \n",
        "    # Split into training and validation set\n",
        "    train_features, valid_features, train_y, valid_y = train_test_split(x, y, test_size = 0.25, random_state = i)\n",
        "    \n",
        "    # Train using early stopping\n",
        "    model.fit(train_features, train_y, early_stopping_rounds=100, eval_set = [(valid_features, valid_y)],eval_metric = 'auc', verbose = 200)\n",
        "    \n",
        "    # Record the feature importances\n",
        "    feature_importances += model.feature_importances_"
      ],
      "execution_count": 0,
      "outputs": [
        {
          "output_type": "stream",
          "text": [
            "Training until validation scores don't improve for 100 rounds\n",
            "Early stopping, best iteration is:\n",
            "[95]\tvalid_0's auc: 0.891818\tvalid_0's binary_logloss: 0.360112\n",
            "Training until validation scores don't improve for 100 rounds\n",
            "Early stopping, best iteration is:\n",
            "[88]\tvalid_0's auc: 0.889283\tvalid_0's binary_logloss: 0.364906\n"
          ],
          "name": "stdout"
        }
      ]
    },
    {
      "cell_type": "code",
      "metadata": {
        "id": "q5w7QiWJ9ZVs",
        "colab_type": "code",
        "colab": {},
        "outputId": "11fca347-7608-4e16-890d-325267135bcd"
      },
      "source": [
        "feature_importances = feature_importances / 2\n",
        "feature_importances = pd.DataFrame({'feature': list(x.columns), 'importance': feature_importances}).sort_values('importance', ascending = False)\n",
        "feature_importances.head()"
      ],
      "execution_count": 0,
      "outputs": [
        {
          "output_type": "execute_result",
          "data": {
            "text/html": [
              "<div>\n",
              "<style scoped>\n",
              "    .dataframe tbody tr th:only-of-type {\n",
              "        vertical-align: middle;\n",
              "    }\n",
              "\n",
              "    .dataframe tbody tr th {\n",
              "        vertical-align: top;\n",
              "    }\n",
              "\n",
              "    .dataframe thead th {\n",
              "        text-align: right;\n",
              "    }\n",
              "</style>\n",
              "<table border=\"1\" class=\"dataframe\">\n",
              "  <thead>\n",
              "    <tr style=\"text-align: right;\">\n",
              "      <th></th>\n",
              "      <th>feature</th>\n",
              "      <th>importance</th>\n",
              "    </tr>\n",
              "  </thead>\n",
              "  <tbody>\n",
              "    <tr>\n",
              "      <td>66</td>\n",
              "      <td>apache_4a_hospital_death_prob</td>\n",
              "      <td>79.25</td>\n",
              "    </tr>\n",
              "    <tr>\n",
              "      <td>29</td>\n",
              "      <td>d1_heartrate_min</td>\n",
              "      <td>52.50</td>\n",
              "    </tr>\n",
              "    <tr>\n",
              "      <td>35</td>\n",
              "      <td>d1_spo2_min</td>\n",
              "      <td>45.25</td>\n",
              "    </tr>\n",
              "    <tr>\n",
              "      <td>0</td>\n",
              "      <td>age</td>\n",
              "      <td>44.25</td>\n",
              "    </tr>\n",
              "    <tr>\n",
              "      <td>8</td>\n",
              "      <td>apache_3j_diagnosis</td>\n",
              "      <td>38.50</td>\n",
              "    </tr>\n",
              "  </tbody>\n",
              "</table>\n",
              "</div>"
            ],
            "text/plain": [
              "                          feature  importance\n",
              "66  apache_4a_hospital_death_prob       79.25\n",
              "29               d1_heartrate_min       52.50\n",
              "35                    d1_spo2_min       45.25\n",
              "0                             age       44.25\n",
              "8             apache_3j_diagnosis       38.50"
            ]
          },
          "metadata": {
            "tags": []
          },
          "execution_count": 21
        }
      ]
    },
    {
      "cell_type": "code",
      "metadata": {
        "id": "fSwLSg609ZVw",
        "colab_type": "code",
        "colab": {},
        "outputId": "6f8fc1b4-72a9-438f-f7dd-2c8ad636d3ac"
      },
      "source": [
        "zero_features = list(feature_importances[feature_importances['importance'] == 0.0]['feature'])\n",
        "print('There are %d features with 0.0 importance' % len(zero_features))\n",
        "feature_importances.tail()\n",
        "# Drop features with zero importance\n",
        "x = x.drop(columns = zero_features)"
      ],
      "execution_count": 0,
      "outputs": [
        {
          "output_type": "stream",
          "text": [
            "There are 5 features with 0.0 importance\n"
          ],
          "name": "stdout"
        }
      ]
    },
    {
      "cell_type": "code",
      "metadata": {
        "id": "wepcWxft9ZVz",
        "colab_type": "code",
        "colab": {}
      },
      "source": [
        "def plot_feature_importances(df, threshold = 0.9):\n",
        "    \n",
        "    plt.rcParams['font.size'] = 18\n",
        "    \n",
        "    # Sort features according to importance\n",
        "    df = df.sort_values('importance', ascending = False).reset_index()\n",
        "    \n",
        "    # Normalize the feature importances to add up to one\n",
        "    df['importance_normalized'] = df['importance'] / df['importance'].sum()\n",
        "    df['cumulative_importance'] = np.cumsum(df['importance_normalized'])\n",
        "\n",
        "    # Make a horizontal bar chart of feature importances\n",
        "    plt.figure(figsize = (10, 6))\n",
        "    ax = plt.subplot()\n",
        "     # Need to reverse the index to plot most important on top\n",
        "    ax.barh(list(reversed(list(df.index[:15]))), \n",
        "            df['importance_normalized'].head(15), \n",
        "            align = 'center', edgecolor = 'k')\n",
        "    \n",
        "    # Set the yticks and labels\n",
        "    ax.set_yticks(list(reversed(list(df.index[:15]))))\n",
        "    ax.set_yticklabels(df['feature'].head(15))\n",
        "    \n",
        "    # Plot labeling\n",
        "    plt.xlabel('Normalized Importance'); plt.title('Feature Importances')\n",
        "    plt.show()\n",
        "    \n",
        "    # Cumulative importance plot\n",
        "    plt.figure(figsize = (8, 6))\n",
        "    plt.plot(list(range(len(df))), df['cumulative_importance'], 'r-')\n",
        "    plt.xlabel('Number of Features'); plt.ylabel('Cumulative Importance'); \n",
        "    plt.title('Cumulative Feature Importance');\n",
        "    plt.show();\n",
        "    \n",
        "    importance_index = np.min(np.where(df['cumulative_importance'] > threshold))\n",
        "    print('%d features required for %0.2f of cumulative importance' % (importance_index + 1, threshold))\n",
        "    return df"
      ],
      "execution_count": 0,
      "outputs": []
    },
    {
      "cell_type": "code",
      "metadata": {
        "id": "OCIUY8hj9ZV2",
        "colab_type": "code",
        "colab": {},
        "outputId": "443ef54d-be01-4a3a-ff5d-9a28be0b0ea9"
      },
      "source": [
        "norm_feature_importances = plot_feature_importances(feature_importances)"
      ],
      "execution_count": 0,
      "outputs": [
        {
          "output_type": "display_data",
          "data": {
            "image/png": "[encoded data removed]",
            "text/plain": [
              "<Figure size 720x432 with 1 Axes>"
            ]
          },
          "metadata": {
            "tags": [],
            "needs_background": "light"
          }
        },
        {
          "output_type": "display_data",
          "data": {
            "image/png": "[encoded data removed]",
            "text/plain": [
              "<Figure size 576x432 with 1 Axes>"
            ]
          },
          "metadata": {
            "tags": [],
            "needs_background": "light"
          }
        },
        {
          "output_type": "stream",
          "text": [
            "50 features required for 0.90 of cumulative importance\n"
          ],
          "name": "stdout"
        }
      ]
    },
    {
      "cell_type": "markdown",
      "metadata": {
        "id": "co1mR2Cy9ZV6",
        "colab_type": "text"
      },
      "source": [
        "## Prueba F de Fisher"
      ]
    },
    {
      "cell_type": "code",
      "metadata": {
        "id": "X7-tk-W89ZV6",
        "colab_type": "code",
        "colab": {},
        "outputId": "eb00b83d-6d41-450d-b7e7-ed1c76d1d915"
      },
      "source": [
        "# Aplicando el algoritmo univariante de prueba F.\n",
        "k = 50  # número de atributos a seleccionar\n",
        "entrenar = data.drop(['hospital_death'], axis=1)\n",
        "columnas = list(entrenar.columns.values)\n",
        "seleccionadas = SelectKBest(f_classif, k=k).fit(entrenar, y)\n",
        "\n",
        "atrib = seleccionadas.get_support()\n",
        "atributos = [columnas[i] for i in list(atrib.nonzero()[0])]"
      ],
      "execution_count": 0,
      "outputs": [
        {
          "output_type": "stream",
          "text": [
            "C:\\Users\\viole\\Anaconda3\\lib\\site-packages\\sklearn\\feature_selection\\_univariate_selection.py:114: UserWarning:\n",
            "\n",
            "Features [5] are constant.\n",
            "\n",
            "C:\\Users\\viole\\Anaconda3\\lib\\site-packages\\sklearn\\feature_selection\\_univariate_selection.py:115: RuntimeWarning:\n",
            "\n",
            "invalid value encountered in true_divide\n",
            "\n"
          ],
          "name": "stderr"
        }
      ]
    },
    {
      "cell_type": "markdown",
      "metadata": {
        "id": "5n5q84VI9ZV-",
        "colab_type": "text"
      },
      "source": [
        "## Eliminación Recursiva de atributos"
      ]
    },
    {
      "cell_type": "code",
      "metadata": {
        "id": "fcyYHqat9ZV_",
        "colab_type": "code",
        "colab": {}
      },
      "source": [
        "modelo = ExtraTreesClassifier()\n",
        "era = RFE(modelo, 52)  # número de atributos a seleccionar\n",
        "era = era.fit(entrenar, y)\n",
        "\n",
        "atrib = era.support_\n",
        "atributos = [columnas[i] for i in list(atrib.nonzero()[0])]"
      ],
      "execution_count": 0,
      "outputs": []
    },
    {
      "cell_type": "markdown",
      "metadata": {
        "id": "3LIw5A-29ZWB",
        "colab_type": "text"
      },
      "source": [
        "-------"
      ]
    },
    {
      "cell_type": "markdown",
      "metadata": {
        "id": "SHQdj69I9ZWC",
        "colab_type": "text"
      },
      "source": [
        "# Unbalanced"
      ]
    },
    {
      "cell_type": "markdown",
      "metadata": {
        "id": "pVPapwzp9ZWC",
        "colab_type": "text"
      },
      "source": [
        "## Undersumpling"
      ]
    },
    {
      "cell_type": "code",
      "metadata": {
        "id": "3xLU3CJ89ZWD",
        "colab_type": "code",
        "colab": {}
      },
      "source": [
        "'''y_train.plot(kind='bar', title='Count (target)')'''"
      ],
      "execution_count": 0,
      "outputs": []
    },
    {
      "cell_type": "code",
      "metadata": {
        "id": "mILC1HcQ9ZWF",
        "colab_type": "code",
        "colab": {},
        "outputId": "7fadbae3-2e9c-4801-d9e6-613ebe9f7d19"
      },
      "source": [
        "'''from imblearn.under_sampling import NearMiss\n",
        "\n",
        "desbal = NearMiss(ratio=1, n_neighbors=3, version=2, random_state=2)\n",
        "\n",
        "x_train_bal, y_train_bal = desbal.fit_sample(x_train, y_train)'''\n"
      ],
      "execution_count": 0,
      "outputs": [
        {
          "output_type": "stream",
          "text": [
            "C:\\Users\\viole\\Anaconda3\\lib\\site-packages\\sklearn\\utils\\deprecation.py:144: FutureWarning:\n",
            "\n",
            "The sklearn.neighbors.base module is  deprecated in version 0.22 and will be removed in version 0.24. The corresponding classes / functions should instead be imported from sklearn.neighbors. Anything that cannot be imported from sklearn.neighbors is now part of the private API.\n",
            "\n",
            "C:\\Users\\viole\\Anaconda3\\lib\\site-packages\\sklearn\\utils\\deprecation.py:144: FutureWarning:\n",
            "\n",
            "The sklearn.ensemble.bagging module is  deprecated in version 0.22 and will be removed in version 0.24. The corresponding classes / functions should instead be imported from sklearn.ensemble. Anything that cannot be imported from sklearn.ensemble is now part of the private API.\n",
            "\n",
            "C:\\Users\\viole\\Anaconda3\\lib\\site-packages\\sklearn\\utils\\deprecation.py:144: FutureWarning:\n",
            "\n",
            "The sklearn.ensemble.base module is  deprecated in version 0.22 and will be removed in version 0.24. The corresponding classes / functions should instead be imported from sklearn.ensemble. Anything that cannot be imported from sklearn.ensemble is now part of the private API.\n",
            "\n",
            "C:\\Users\\viole\\Anaconda3\\lib\\site-packages\\sklearn\\utils\\deprecation.py:144: FutureWarning:\n",
            "\n",
            "The sklearn.ensemble.forest module is  deprecated in version 0.22 and will be removed in version 0.24. The corresponding classes / functions should instead be imported from sklearn.ensemble. Anything that cannot be imported from sklearn.ensemble is now part of the private API.\n",
            "\n",
            "C:\\Users\\viole\\Anaconda3\\lib\\site-packages\\sklearn\\utils\\deprecation.py:144: FutureWarning:\n",
            "\n",
            "The sklearn.utils.testing module is  deprecated in version 0.22 and will be removed in version 0.24. The corresponding classes / functions should instead be imported from sklearn.utils. Anything that cannot be imported from sklearn.utils is now part of the private API.\n",
            "\n",
            "C:\\Users\\viole\\Anaconda3\\lib\\site-packages\\sklearn\\utils\\deprecation.py:144: FutureWarning:\n",
            "\n",
            "The sklearn.metrics.classification module is  deprecated in version 0.22 and will be removed in version 0.24. The corresponding classes / functions should instead be imported from sklearn.metrics. Anything that cannot be imported from sklearn.metrics is now part of the private API.\n",
            "\n",
            "C:\\Users\\viole\\Anaconda3\\lib\\site-packages\\sklearn\\utils\\deprecation.py:87: FutureWarning:\n",
            "\n",
            "Function safe_indexing is deprecated; safe_indexing is deprecated in version 0.22 and will be removed in version 0.24.\n",
            "\n",
            "C:\\Users\\viole\\Anaconda3\\lib\\site-packages\\sklearn\\utils\\deprecation.py:87: FutureWarning:\n",
            "\n",
            "Function safe_indexing is deprecated; safe_indexing is deprecated in version 0.22 and will be removed in version 0.24.\n",
            "\n"
          ],
          "name": "stderr"
        }
      ]
    },
    {
      "cell_type": "code",
      "metadata": {
        "id": "44hDodgI9ZWI",
        "colab_type": "code",
        "colab": {}
      },
      "source": [
        "'''len(x_train_bal),len(y_train_bal)'''"
      ],
      "execution_count": 0,
      "outputs": []
    },
    {
      "cell_type": "code",
      "metadata": {
        "id": "pT1NwJ_P9ZWK",
        "colab_type": "code",
        "colab": {}
      },
      "source": [
        "def plot_2d_space(X, y, label='Classes'):   \n",
        "    colors = ['#1F77B4', '#FF7F0E']\n",
        "    markers = ['o', 's']\n",
        "    for l, c, m in zip(np.unique(y), colors, markers):\n",
        "        plt.scatter(\n",
        "            X[y==l, 0],\n",
        "            X[y==l, 1],\n",
        "            c=c, label=l, marker=m\n",
        "        )\n",
        "    plt.title(label)\n",
        "    plt.legend(loc='upper right')\n",
        "    plt.show()"
      ],
      "execution_count": 0,
      "outputs": []
    },
    {
      "cell_type": "code",
      "metadata": {
        "id": "Eeu4p9Fl9ZWN",
        "colab_type": "code",
        "colab": {},
        "outputId": "a02c404b-c700-46cd-eefd-f29adb23a70a"
      },
      "source": [
        "from imblearn.under_sampling import RandomUnderSampler\n",
        "\n",
        "rus = RandomUnderSampler(return_indices=True)\n",
        "x_rus, y_rus, id_rus = rus.fit_sample(x_train, y_train)\n",
        "\n",
        "print('Removed indexes:', id_rus)\n"
      ],
      "execution_count": 0,
      "outputs": [
        {
          "output_type": "stream",
          "text": [
            "Removed indexes: [13650 16891 18517 ... 73347 73356 73368]\n"
          ],
          "name": "stdout"
        },
        {
          "output_type": "stream",
          "text": [
            "C:\\Users\\viole\\Anaconda3\\lib\\site-packages\\sklearn\\utils\\deprecation.py:87: FutureWarning:\n",
            "\n",
            "Function safe_indexing is deprecated; safe_indexing is deprecated in version 0.22 and will be removed in version 0.24.\n",
            "\n"
          ],
          "name": "stderr"
        }
      ]
    },
    {
      "cell_type": "code",
      "metadata": {
        "id": "-J3aXV5W9ZWQ",
        "colab_type": "code",
        "colab": {},
        "outputId": "7986089c-c5b1-4976-df0a-eb5c76383aab"
      },
      "source": [
        "plot_2d_space(x_rus, y_rus, 'Random under-sampling')\n",
        "len(x_rus),len(y_rus)\n"
      ],
      "execution_count": 0,
      "outputs": [
        {
          "output_type": "display_data",
          "data": {
            "image/png": "[encoded data removed]",
            "text/plain": [
              "<Figure size 432x288 with 1 Axes>"
            ]
          },
          "metadata": {
            "tags": [],
            "needs_background": "light"
          }
        },
        {
          "output_type": "execute_result",
          "data": {
            "text/plain": [
              "(12636, 12636)"
            ]
          },
          "metadata": {
            "tags": []
          },
          "execution_count": 48
        }
      ]
    },
    {
      "cell_type": "markdown",
      "metadata": {
        "id": "PohkTUt99ZWT",
        "colab_type": "text"
      },
      "source": [
        "## Oversampling"
      ]
    },
    {
      "cell_type": "code",
      "metadata": {
        "id": "-_EqEsg39ZWT",
        "colab_type": "code",
        "colab": {},
        "outputId": "04d56ee9-be8d-42bc-f4cd-a3314aaf419e"
      },
      "source": [
        "from imblearn.over_sampling import RandomOverSampler\n",
        "\n",
        "ros = RandomOverSampler()\n",
        "x_ros, y_ros = ros.fit_sample(x_train, y_train)\n",
        "\n",
        "print(x_ros.shape[0] - x_train.shape[0], 'new random picked points')\n",
        "\n"
      ],
      "execution_count": 0,
      "outputs": [
        {
          "output_type": "stream",
          "text": [
            "60734 new random picked points\n"
          ],
          "name": "stdout"
        },
        {
          "output_type": "stream",
          "text": [
            "C:\\Users\\viole\\Anaconda3\\lib\\site-packages\\sklearn\\utils\\deprecation.py:87: FutureWarning:\n",
            "\n",
            "Function safe_indexing is deprecated; safe_indexing is deprecated in version 0.22 and will be removed in version 0.24.\n",
            "\n"
          ],
          "name": "stderr"
        }
      ]
    },
    {
      "cell_type": "code",
      "metadata": {
        "id": "vt52IZYa9ZWW",
        "colab_type": "code",
        "colab": {},
        "outputId": "3a417ceb-6f0a-469e-ca58-3577bb448dcd"
      },
      "source": [
        "plot_2d_space(x_ros, y_ros, 'Random over-sampling')\n",
        "len(x_ros),len(y_ros)"
      ],
      "execution_count": 0,
      "outputs": [
        {
          "output_type": "display_data",
          "data": {
            "image/png": "[encoded data removed]",
            "text/plain": [
              "<Figure size 432x288 with 1 Axes>"
            ]
          },
          "metadata": {
            "tags": [],
            "needs_background": "light"
          }
        },
        {
          "output_type": "execute_result",
          "data": {
            "text/plain": [
              "(134104, 134104)"
            ]
          },
          "metadata": {
            "tags": []
          },
          "execution_count": 50
        }
      ]
    },
    {
      "cell_type": "markdown",
      "metadata": {
        "id": "hBw8TEcT9ZWY",
        "colab_type": "text"
      },
      "source": [
        "-------"
      ]
    },
    {
      "cell_type": "markdown",
      "metadata": {
        "id": "Orl1y4Sp9ZWY",
        "colab_type": "text"
      },
      "source": [
        "# Classification"
      ]
    },
    {
      "cell_type": "markdown",
      "metadata": {
        "id": "7e2FTNWN9ZWZ",
        "colab_type": "text"
      },
      "source": [
        "## LDA (Fisher)"
      ]
    },
    {
      "cell_type": "markdown",
      "metadata": {
        "id": "_PT5GOax9ZWZ",
        "colab_type": "text"
      },
      "source": [
        "#### 1. Unbalanced data"
      ]
    },
    {
      "cell_type": "code",
      "metadata": {
        "id": "Eg-sPP8n9ZWa",
        "colab_type": "code",
        "colab": {}
      },
      "source": [
        "from sklearn.discriminant_analysis import LinearDiscriminantAnalysis\n",
        "from sklearn.model_selection import cross_val_score\n",
        "from sklearn.model_selection import KFold"
      ],
      "execution_count": 0,
      "outputs": []
    },
    {
      "cell_type": "code",
      "metadata": {
        "id": "xECqSrP09ZWd",
        "colab_type": "code",
        "colab": {},
        "outputId": "694dd528-64a7-4428-9ecf-adf80840ddbd"
      },
      "source": [
        "kf = KFold(n_splits=5)\n",
        "clf_fda = LinearDiscriminantAnalysis(n_components=2)\n",
        "clf_fda.fit(x_train, y_train)\n",
        "score = clf_fda.score(x_train,y_train)"
      ],
      "execution_count": 0,
      "outputs": [
        {
          "output_type": "stream",
          "text": [
            "C:\\Users\\viole\\Anaconda3\\lib\\site-packages\\sklearn\\discriminant_analysis.py:463: ChangedBehaviorWarning:\n",
            "\n",
            "n_components cannot be larger than min(n_features, n_classes - 1). Using min(n_features, n_classes - 1) = min(109, 2 - 1) = 1 components.\n",
            "\n",
            "C:\\Users\\viole\\Anaconda3\\lib\\site-packages\\sklearn\\discriminant_analysis.py:469: FutureWarning:\n",
            "\n",
            "In version 0.23, setting n_components > min(n_features, n_classes - 1) will raise a ValueError. You should set n_components to None (default), or a value smaller or equal to min(n_features, n_classes - 1).\n",
            "\n"
          ],
          "name": "stderr"
        }
      ]
    },
    {
      "cell_type": "code",
      "metadata": {
        "id": "VIMpAWMP9ZWg",
        "colab_type": "code",
        "colab": {},
        "outputId": "ec3e256b-dce6-4c70-fe15-dc92b17acaea"
      },
      "source": [
        "from sklearn import metrics\n",
        "y_pred = clf_fda.predict(x_test)\n",
        "cnf_matrix = metrics.confusion_matrix(y_test, y_pred)\n",
        "sen_f=metrics.recall_score(y_test, y_pred)\n",
        "print(\"Accuracy normalizando:\",metrics.accuracy_score(y_test,y_pred))\n",
        "print(cnf_matrix)"
      ],
      "execution_count": 0,
      "outputs": [
        {
          "output_type": "stream",
          "text": [
            "Accuracy normalizando: 0.9189881698740664\n",
            "[[16208   538]\n",
            " [  948   649]]\n"
          ],
          "name": "stdout"
        }
      ]
    },
    {
      "cell_type": "code",
      "metadata": {
        "id": "oRo34gw19ZWl",
        "colab_type": "code",
        "colab": {},
        "outputId": "38ad2306-96b9-468f-b51a-352b76323ade"
      },
      "source": [
        "sen_f"
      ],
      "execution_count": 0,
      "outputs": [
        {
          "output_type": "execute_result",
          "data": {
            "text/plain": [
              "0.406386975579211"
            ]
          },
          "metadata": {
            "tags": []
          },
          "execution_count": 159
        }
      ]
    },
    {
      "cell_type": "code",
      "metadata": {
        "id": "1JIyBuBp9ZWp",
        "colab_type": "code",
        "colab": {},
        "outputId": "8658b242-6b75-4512-fcd5-dba67175dcd8"
      },
      "source": [
        "y_pred_proba = clf_fda.predict_proba(x_test)[::,1]\n",
        "fpr, tpr, _ = metrics.roc_curve(y_test,  y_pred_proba)\n",
        "auc_f = metrics.roc_auc_score(y_test, y_pred_proba)\n",
        "plt.plot(fpr,tpr,label=\"data 1, auc=\"+str(auc_f))\n",
        "plt.legend(loc=4)\n",
        "plt.show()"
      ],
      "execution_count": 0,
      "outputs": [
        {
          "output_type": "display_data",
          "data": {
            "image/png": "[encoded data removed]",
            "text/plain": [
              "<Figure size 432x288 with 1 Axes>"
            ]
          },
          "metadata": {
            "tags": [],
            "needs_background": "light"
          }
        }
      ]
    },
    {
      "cell_type": "markdown",
      "metadata": {
        "id": "VTXJddcu9ZWs",
        "colab_type": "text"
      },
      "source": [
        "#### 2. Balanced data"
      ]
    },
    {
      "cell_type": "markdown",
      "metadata": {
        "id": "eU-ariVb9ZWt",
        "colab_type": "text"
      },
      "source": [
        "Undersampling"
      ]
    },
    {
      "cell_type": "code",
      "metadata": {
        "id": "YKqvqbsB9ZWt",
        "colab_type": "code",
        "colab": {},
        "outputId": "5a08fdf4-b1b3-46c9-fb04-52c53d666dc0"
      },
      "source": [
        "kf = KFold(n_splits=5)\n",
        "clf_fda = LinearDiscriminantAnalysis(n_components=2)\n",
        "clf_fda.fit(x_rus, y_rus)\n",
        "score = clf_fda.score(x_rus,y_rus)"
      ],
      "execution_count": 0,
      "outputs": [
        {
          "output_type": "stream",
          "text": [
            "C:\\Users\\viole\\Anaconda3\\lib\\site-packages\\sklearn\\discriminant_analysis.py:463: ChangedBehaviorWarning:\n",
            "\n",
            "n_components cannot be larger than min(n_features, n_classes - 1). Using min(n_features, n_classes - 1) = min(109, 2 - 1) = 1 components.\n",
            "\n",
            "C:\\Users\\viole\\Anaconda3\\lib\\site-packages\\sklearn\\discriminant_analysis.py:469: FutureWarning:\n",
            "\n",
            "In version 0.23, setting n_components > min(n_features, n_classes - 1) will raise a ValueError. You should set n_components to None (default), or a value smaller or equal to min(n_features, n_classes - 1).\n",
            "\n"
          ],
          "name": "stderr"
        }
      ]
    },
    {
      "cell_type": "code",
      "metadata": {
        "id": "xlX2S62v9ZWv",
        "colab_type": "code",
        "colab": {},
        "outputId": "67a9811f-dd4f-4c15-9787-908f9689763a"
      },
      "source": [
        "from sklearn import metrics\n",
        "y_pred = clf_fda.predict(x_test)\n",
        "cnf_matrix = metrics.confusion_matrix(y_test, y_pred)\n",
        "sen_fu=metrics.recall_score(y_test, y_pred)\n",
        "print(\"Accuracy normalizando:\",metrics.accuracy_score(y_test,y_pred))\n",
        "print(cnf_matrix)"
      ],
      "execution_count": 0,
      "outputs": [
        {
          "output_type": "stream",
          "text": [
            "Accuracy normalizando: 0.817478057024478\n",
            "[[13776  2970]\n",
            " [  378  1219]]\n"
          ],
          "name": "stdout"
        }
      ]
    },
    {
      "cell_type": "code",
      "metadata": {
        "id": "VIIQaFpY9ZWy",
        "colab_type": "code",
        "colab": {},
        "outputId": "71643938-7f2c-44a3-cb95-33b67d544246"
      },
      "source": [
        "y_pred_proba = clf_fda.predict_proba(x_test)[::,1]\n",
        "fpr, tpr, _ = metrics.roc_curve(y_test,  y_pred_proba)\n",
        "auc_fu = metrics.roc_auc_score(y_test, y_pred_proba)\n",
        "plt.plot(fpr,tpr,label=\"data 1, auc=\"+str(auc_fu))\n",
        "plt.legend(loc=4)\n",
        "plt.show()"
      ],
      "execution_count": 0,
      "outputs": [
        {
          "output_type": "display_data",
          "data": {
            "image/png": "[encoded data removed]",
            "text/plain": [
              "<Figure size 432x288 with 1 Axes>"
            ]
          },
          "metadata": {
            "tags": [],
            "needs_background": "light"
          }
        }
      ]
    },
    {
      "cell_type": "markdown",
      "metadata": {
        "id": "d68wQ_1w9ZW0",
        "colab_type": "text"
      },
      "source": [
        "Oversampling"
      ]
    },
    {
      "cell_type": "code",
      "metadata": {
        "id": "lAm4s_gb9ZW1",
        "colab_type": "code",
        "colab": {},
        "outputId": "1a1db2e3-e555-4731-e1a6-ef1ee7416a84"
      },
      "source": [
        "clf_fda = LinearDiscriminantAnalysis(n_components=2)\n",
        "clf_fda.fit(x_ros, y_ros)\n",
        "score = clf_fda.score(x_ros,y_ros)"
      ],
      "execution_count": 0,
      "outputs": [
        {
          "output_type": "stream",
          "text": [
            "C:\\Users\\viole\\Anaconda3\\lib\\site-packages\\sklearn\\discriminant_analysis.py:463: ChangedBehaviorWarning:\n",
            "\n",
            "n_components cannot be larger than min(n_features, n_classes - 1). Using min(n_features, n_classes - 1) = min(109, 2 - 1) = 1 components.\n",
            "\n",
            "C:\\Users\\viole\\Anaconda3\\lib\\site-packages\\sklearn\\discriminant_analysis.py:469: FutureWarning:\n",
            "\n",
            "In version 0.23, setting n_components > min(n_features, n_classes - 1) will raise a ValueError. You should set n_components to None (default), or a value smaller or equal to min(n_features, n_classes - 1).\n",
            "\n"
          ],
          "name": "stderr"
        }
      ]
    },
    {
      "cell_type": "code",
      "metadata": {
        "id": "Ihv5F9FW9ZW4",
        "colab_type": "code",
        "colab": {},
        "outputId": "9a22625b-880b-4bfe-9131-81260923cb8f"
      },
      "source": [
        "from sklearn import metrics\n",
        "y_pred = clf_fda.predict(x_test)\n",
        "cnf_matrix = metrics.confusion_matrix(y_test, y_pred)\n",
        "sen_fo=metrics.recall_score(y_test, y_pred)\n",
        "print(\"Accuracy normalizando:\",metrics.accuracy_score(y_test,y_pred))\n",
        "print(cnf_matrix)"
      ],
      "execution_count": 0,
      "outputs": [
        {
          "output_type": "stream",
          "text": [
            "Accuracy normalizando: 0.8162241727089353\n",
            "[[13740  3006]\n",
            " [  365  1232]]\n"
          ],
          "name": "stdout"
        }
      ]
    },
    {
      "cell_type": "code",
      "metadata": {
        "id": "lkEZW26q9ZW7",
        "colab_type": "code",
        "colab": {},
        "outputId": "1cd1863a-979a-4dbb-d605-a390c5335fcc"
      },
      "source": [
        "y_pred_proba = clf_fda.predict_proba(x_test)[::,1]\n",
        "fpr, tpr, _ = metrics.roc_curve(y_test,  y_pred_proba)\n",
        "auc_fo = metrics.roc_auc_score(y_test, y_pred_proba)\n",
        "plt.plot(fpr,tpr,label=\"data 1, auc=\"+str(auc_fo))\n",
        "plt.legend(loc=4)\n",
        "plt.show()"
      ],
      "execution_count": 0,
      "outputs": [
        {
          "output_type": "display_data",
          "data": {
            "image/png": "[encoded data removed]",
            "text/plain": [
              "<Figure size 432x288 with 1 Axes>"
            ]
          },
          "metadata": {
            "tags": [],
            "needs_background": "light"
          }
        }
      ]
    },
    {
      "cell_type": "markdown",
      "metadata": {
        "id": "KX6-9m2P9ZW-",
        "colab_type": "text"
      },
      "source": [
        "## Mayoría de votos"
      ]
    },
    {
      "cell_type": "markdown",
      "metadata": {
        "id": "zPY_0aHE9ZW-",
        "colab_type": "text"
      },
      "source": [
        "#### 1. Unbalanced"
      ]
    },
    {
      "cell_type": "code",
      "metadata": {
        "id": "mEg03bTY9ZW-",
        "colab_type": "code",
        "colab": {}
      },
      "source": [
        "from sklearn.ensemble import RandomForestClassifier,GradientBoostingClassifier ,VotingClassifier\n",
        "# Random Forest Classifier\n",
        "RFC = RandomForestClassifier(n_estimators=100)\n",
        "# Gradient Boosting Classifier\n",
        "GBC = GradientBoostingClassifier(random_state=1)\n",
        "# Voting Classifier with soft voting \n",
        "votingC = VotingClassifier(estimators=[('rfc', RFC),('gbc',GBC)], voting='soft')\n",
        "votingC = votingC.fit(x_train, y_train)\n",
        "y_pred = votingC.predict(x_test)"
      ],
      "execution_count": 0,
      "outputs": []
    },
    {
      "cell_type": "code",
      "metadata": {
        "id": "OOg9bzHS9ZXA",
        "colab_type": "code",
        "colab": {},
        "outputId": "67ad6c84-b697-4148-c178-6c7ed6099086"
      },
      "source": [
        "cnf_matrix = metrics.confusion_matrix(y_test, y_pred)\n",
        "sen_m=metrics.recall_score(y_test, y_pred)\n",
        "print(\"Accuracy:\",metrics.accuracy_score(y_test,y_pred))\n",
        "print(cnf_matrix)"
      ],
      "execution_count": 0,
      "outputs": [
        {
          "output_type": "stream",
          "text": [
            "Accuracy: 0.9295098947827509\n",
            "[[16564   182]\n",
            " [ 1111   486]]\n"
          ],
          "name": "stdout"
        }
      ]
    },
    {
      "cell_type": "code",
      "metadata": {
        "id": "oRLRWIQg9ZXE",
        "colab_type": "code",
        "colab": {},
        "outputId": "e3a40401-9aae-406e-d2c8-fa170c4e73df"
      },
      "source": [
        "y_pred_proba = votingC.predict_proba(x_test)[::,1]\n",
        "fpr, tpr, _ = metrics.roc_curve(y_test,  y_pred_proba)\n",
        "auc_m = metrics.roc_auc_score(y_test, y_pred_proba)\n",
        "plt.plot(fpr,tpr,label=\"data 1, auc=\"+str(auc_m))\n",
        "plt.legend(loc=4)\n",
        "plt.show()"
      ],
      "execution_count": 0,
      "outputs": [
        {
          "output_type": "display_data",
          "data": {
            "image/png": "[encoded data removed]",
            "text/plain": [
              "<Figure size 432x288 with 1 Axes>"
            ]
          },
          "metadata": {
            "tags": [],
            "needs_background": "light"
          }
        }
      ]
    },
    {
      "cell_type": "markdown",
      "metadata": {
        "id": "J2li9q6a9ZXG",
        "colab_type": "text"
      },
      "source": [
        "#### 2. Balanced "
      ]
    },
    {
      "cell_type": "markdown",
      "metadata": {
        "id": "zk6v5tEj9ZXH",
        "colab_type": "text"
      },
      "source": [
        "Undersampling"
      ]
    },
    {
      "cell_type": "code",
      "metadata": {
        "id": "6_3xjyUG9ZXI",
        "colab_type": "code",
        "colab": {}
      },
      "source": [
        "from sklearn.ensemble import RandomForestClassifier,GradientBoostingClassifier ,VotingClassifier\n",
        "# Random Forest Classifier\n",
        "RFC = RandomForestClassifier(n_estimators=100)\n",
        "# Gradient Boosting Classifier\n",
        "GBC = GradientBoostingClassifier(random_state=1)\n",
        "# Voting Classifier with soft voting \n",
        "votingC = VotingClassifier(estimators=[('rfc', RFC),('gbc',GBC)], voting='soft')\n",
        "votingC = votingC.fit(x_rus, y_rus)\n",
        "y_pred = votingC.predict(x_test)"
      ],
      "execution_count": 0,
      "outputs": []
    },
    {
      "cell_type": "code",
      "metadata": {
        "id": "BF4pNQLn9ZXJ",
        "colab_type": "code",
        "colab": {},
        "outputId": "f44748b1-f37d-4acd-8afd-450a19c6fcae"
      },
      "source": [
        "cnf_matrix = metrics.confusion_matrix(y_test, y_pred)\n",
        "sen_mu=metrics.recall_score(y_test, y_pred)\n",
        "print(\"Accuracy:\",metrics.accuracy_score(y_test,y_pred))\n",
        "print(cnf_matrix)"
      ],
      "execution_count": 0,
      "outputs": [
        {
          "output_type": "stream",
          "text": [
            "Accuracy: 0.8059750313471079\n",
            "[[13517  3229]\n",
            " [  330  1267]]\n"
          ],
          "name": "stdout"
        }
      ]
    },
    {
      "cell_type": "code",
      "metadata": {
        "id": "hkLvCZ8A9ZXL",
        "colab_type": "code",
        "colab": {},
        "outputId": "95d96bdf-4a30-4551-e7af-4801191a94b4"
      },
      "source": [
        "y_pred_proba = votingC.predict_proba(x_test)[::,1]\n",
        "fpr, tpr, _ = metrics.roc_curve(y_test,  y_pred_proba)\n",
        "auc_mu = metrics.roc_auc_score(y_test, y_pred_proba)\n",
        "plt.plot(fpr,tpr,label=\"data 1, auc=\"+str(auc_mu))\n",
        "plt.legend(loc=4)\n",
        "plt.show()"
      ],
      "execution_count": 0,
      "outputs": [
        {
          "output_type": "display_data",
          "data": {
            "image/png": "[encoded data removed]",
            "text/plain": [
              "<Figure size 432x288 with 1 Axes>"
            ]
          },
          "metadata": {
            "tags": [],
            "needs_background": "light"
          }
        }
      ]
    },
    {
      "cell_type": "markdown",
      "metadata": {
        "id": "9clC17Ri9ZXN",
        "colab_type": "text"
      },
      "source": [
        "Oversampling"
      ]
    },
    {
      "cell_type": "code",
      "metadata": {
        "id": "aoCeRcy99ZXN",
        "colab_type": "code",
        "colab": {}
      },
      "source": [
        "# Random Forest Classifier\n",
        "RFC = RandomForestClassifier(n_estimators=100)\n",
        "# Gradient Boosting Classifier\n",
        "GBC = GradientBoostingClassifier(random_state=1)\n",
        "# Voting Classifier with soft voting \n",
        "votingC = VotingClassifier(estimators=[('rfc', RFC),('gbc',GBC)], voting='soft')\n",
        "votingC = votingC.fit(x_ros, y_ros)\n",
        "y_pred = votingC.predict(x_test)"
      ],
      "execution_count": 0,
      "outputs": []
    },
    {
      "cell_type": "code",
      "metadata": {
        "id": "4Uq6pyOC9ZXP",
        "colab_type": "code",
        "colab": {},
        "outputId": "130e04c6-0cff-4fa8-8988-37a1f9eba458"
      },
      "source": [
        "cnf_matrix = metrics.confusion_matrix(y_test, y_pred)\n",
        "sen_mo=metrics.recall_score(y_test, y_pred)\n",
        "print(\"Accuracy:\",metrics.accuracy_score(y_test,y_pred))\n",
        "print(cnf_matrix)"
      ],
      "execution_count": 0,
      "outputs": [
        {
          "output_type": "stream",
          "text": [
            "Accuracy: 0.8980537534754403\n",
            "[[15515  1231]\n",
            " [  639   958]]\n"
          ],
          "name": "stdout"
        }
      ]
    },
    {
      "cell_type": "code",
      "metadata": {
        "id": "Q5fkwyXn9ZXT",
        "colab_type": "code",
        "colab": {},
        "outputId": "1d50d3a5-7285-4e6a-cbc4-54d9996ab7bb"
      },
      "source": [
        "y_pred_proba = votingC.predict_proba(x_test)[::,1]\n",
        "fpr, tpr, _ = metrics.roc_curve(y_test,  y_pred_proba)\n",
        "auc_mo = metrics.roc_auc_score(y_test, y_pred_proba)\n",
        "plt.plot(fpr,tpr,label=\"data 1, auc=\"+str(auc_mo))\n",
        "plt.legend(loc=4)\n",
        "plt.show()"
      ],
      "execution_count": 0,
      "outputs": [
        {
          "output_type": "display_data",
          "data": {
            "image/png": "[encoded data removed]",
            "text/plain": [
              "<Figure size 432x288 with 1 Axes>"
            ]
          },
          "metadata": {
            "tags": [],
            "needs_background": "light"
          }
        }
      ]
    },
    {
      "cell_type": "markdown",
      "metadata": {
        "id": "BhZB5XFY9ZXV",
        "colab_type": "text"
      },
      "source": [
        "## Boosted Trees"
      ]
    },
    {
      "cell_type": "markdown",
      "metadata": {
        "id": "IS_kD_pG9ZXV",
        "colab_type": "text"
      },
      "source": [
        "#### 1. Unbalanced"
      ]
    },
    {
      "cell_type": "code",
      "metadata": {
        "id": "I504HkMp9ZXV",
        "colab_type": "code",
        "colab": {}
      },
      "source": [
        "clf = GBC.fit(x_train, y_train)\n",
        "y_pred = clf.predict(x_test)"
      ],
      "execution_count": 0,
      "outputs": []
    },
    {
      "cell_type": "code",
      "metadata": {
        "id": "FqDltYlY9ZXY",
        "colab_type": "code",
        "colab": {},
        "outputId": "a4013ea6-9ae1-4071-cca3-fbe51a92fd20"
      },
      "source": [
        "cnf_matrix = metrics.confusion_matrix(y_test, y_pred)\n",
        "sen_b=metrics.recall_score(y_test, y_pred)\n",
        "print(\"Accuracy:\",metrics.accuracy_score(y_test,y_pred))\n",
        "print(cnf_matrix)"
      ],
      "execution_count": 0,
      "outputs": [
        {
          "output_type": "stream",
          "text": [
            "Accuracy: 0.9284195605953225\n",
            "[[16529   217]\n",
            " [ 1096   501]]\n"
          ],
          "name": "stdout"
        }
      ]
    },
    {
      "cell_type": "code",
      "metadata": {
        "id": "qygzYp_W9ZXd",
        "colab_type": "code",
        "colab": {},
        "outputId": "9fa8bebb-c1c0-4b08-fae8-a92c175ef104"
      },
      "source": [
        "y_pred_proba = clf.predict_proba(x_test)[::,1]\n",
        "fpr, tpr, _ = metrics.roc_curve(y_test,  y_pred_proba)\n",
        "auc_b = metrics.roc_auc_score(y_test, y_pred_proba)\n",
        "plt.plot(fpr,tpr,label=\"data 1, auc=\"+str(auc_b))\n",
        "plt.legend(loc=4)\n",
        "plt.show()"
      ],
      "execution_count": 0,
      "outputs": [
        {
          "output_type": "display_data",
          "data": {
            "image/png": "[encoded data removed]",
            "text/plain": [
              "<Figure size 432x288 with 1 Axes>"
            ]
          },
          "metadata": {
            "tags": [],
            "needs_background": "light"
          }
        }
      ]
    },
    {
      "cell_type": "markdown",
      "metadata": {
        "id": "26Lvy4319ZXi",
        "colab_type": "text"
      },
      "source": [
        "#### 2. Balanced"
      ]
    },
    {
      "cell_type": "markdown",
      "metadata": {
        "id": "mkrtB_gT9ZXj",
        "colab_type": "text"
      },
      "source": [
        "Undersampling"
      ]
    },
    {
      "cell_type": "code",
      "metadata": {
        "id": "Ujg-y-Qz9ZXo",
        "colab_type": "code",
        "colab": {}
      },
      "source": [
        "clf = GBC.fit(x_rus, y_rus)\n",
        "y_pred = clf.predict(x_test)"
      ],
      "execution_count": 0,
      "outputs": []
    },
    {
      "cell_type": "code",
      "metadata": {
        "id": "O_lPqFiH9ZXr",
        "colab_type": "code",
        "colab": {},
        "outputId": "4a6e00b4-3294-4f5d-99d2-dd0f0cc28338"
      },
      "source": [
        "cnf_matrix = metrics.confusion_matrix(y_test, y_pred)\n",
        "sen_bu=metrics.recall_score(y_test, y_pred)\n",
        "print(\"Accuracy:\",metrics.accuracy_score(y_test,y_pred))\n",
        "print(cnf_matrix)"
      ],
      "execution_count": 0,
      "outputs": [
        {
          "output_type": "stream",
          "text": [
            "Accuracy: 0.8077740827563649\n",
            "[[13564  3182]\n",
            " [  344  1253]]\n"
          ],
          "name": "stdout"
        }
      ]
    },
    {
      "cell_type": "code",
      "metadata": {
        "id": "VYxSRHb59ZXv",
        "colab_type": "code",
        "colab": {},
        "outputId": "726e4418-2377-4e42-9e9a-89b406ea05c6"
      },
      "source": [
        "y_pred_proba = clf.predict_proba(x_test)[::,1]\n",
        "fpr, tpr, _ = metrics.roc_curve(y_test,  y_pred_proba)\n",
        "auc_bu = metrics.roc_auc_score(y_test, y_pred_proba)\n",
        "plt.plot(fpr,tpr,label=\"data 1, auc=\"+str(auc_bu))\n",
        "plt.legend(loc=4)\n",
        "plt.show()"
      ],
      "execution_count": 0,
      "outputs": [
        {
          "output_type": "display_data",
          "data": {
            "image/png": "[encoded data removed]",
            "text/plain": [
              "<Figure size 432x288 with 1 Axes>"
            ]
          },
          "metadata": {
            "tags": [],
            "needs_background": "light"
          }
        }
      ]
    },
    {
      "cell_type": "markdown",
      "metadata": {
        "id": "OuAxL8K89ZXy",
        "colab_type": "text"
      },
      "source": [
        "Oversampling"
      ]
    },
    {
      "cell_type": "code",
      "metadata": {
        "id": "df7m4-tI9ZXz",
        "colab_type": "code",
        "colab": {}
      },
      "source": [
        "clf = GBC.fit(x_ros, y_ros)\n",
        "y_pred = clf.predict(x_test)"
      ],
      "execution_count": 0,
      "outputs": []
    },
    {
      "cell_type": "code",
      "metadata": {
        "id": "vuMmWinX9ZX2",
        "colab_type": "code",
        "colab": {},
        "outputId": "d72ee16b-172d-47ea-e17c-24aa464891c6"
      },
      "source": [
        "cnf_matrix = metrics.confusion_matrix(y_test, y_pred)\n",
        "sen_bo=metrics.recall_score(y_test, y_pred)\n",
        "print(\"Accuracy:\",metrics.accuracy_score(y_test,y_pred))\n",
        "print(cnf_matrix)"
      ],
      "execution_count": 0,
      "outputs": [
        {
          "output_type": "stream",
          "text": [
            "Accuracy: 0.8132802704028785\n",
            "[[13664  3082]\n",
            " [  343  1254]]\n"
          ],
          "name": "stdout"
        }
      ]
    },
    {
      "cell_type": "code",
      "metadata": {
        "id": "E5cBiRPk9ZX5",
        "colab_type": "code",
        "colab": {},
        "outputId": "9215022d-13c5-4ced-c769-51974d636c0c"
      },
      "source": [
        "y_pred_proba = clf.predict_proba(x_test)[::,1]\n",
        "fpr, tpr, _ = metrics.roc_curve(y_test,  y_pred_proba)\n",
        "auc_bo = metrics.roc_auc_score(y_test, y_pred_proba)\n",
        "plt.plot(fpr,tpr,label=\"data 1, auc=\"+str(auc_bo))\n",
        "plt.legend(loc=4)\n",
        "plt.show()"
      ],
      "execution_count": 0,
      "outputs": [
        {
          "output_type": "display_data",
          "data": {
            "image/png": "[encoded data removed]",
            "text/plain": [
              "<Figure size 432x288 with 1 Axes>"
            ]
          },
          "metadata": {
            "tags": [],
            "needs_background": "light"
          }
        }
      ]
    },
    {
      "cell_type": "markdown",
      "metadata": {
        "id": "tquuHrWa9ZX8",
        "colab_type": "text"
      },
      "source": [
        "## Random Forest"
      ]
    },
    {
      "cell_type": "markdown",
      "metadata": {
        "id": "0_sGm8UL9ZX8",
        "colab_type": "text"
      },
      "source": [
        "#### 1. Unbalanced"
      ]
    },
    {
      "cell_type": "code",
      "metadata": {
        "id": "j5GV8oLL9ZX9",
        "colab_type": "code",
        "colab": {}
      },
      "source": [
        "clf = RFC.fit(x_train, y_train)\n",
        "y_pred = clf.predict(x_test)"
      ],
      "execution_count": 0,
      "outputs": []
    },
    {
      "cell_type": "code",
      "metadata": {
        "id": "VPnLUyML9ZX_",
        "colab_type": "code",
        "colab": {},
        "outputId": "ff5dd21e-67ea-499b-cf39-18a5d89ac03d"
      },
      "source": [
        "cnf_matrix = metrics.confusion_matrix(y_test, y_pred)\n",
        "sen_r=metrics.recall_score(y_test, y_pred)\n",
        "print(\"Accuracy normalizando:\",metrics.accuracy_score(y_test,y_pred))\n",
        "print(cnf_matrix)"
      ],
      "execution_count": 0,
      "outputs": [
        {
          "output_type": "stream",
          "text": [
            "Accuracy normalizando: 0.9285285940140653\n",
            "[[16588   158]\n",
            " [ 1153   444]]\n"
          ],
          "name": "stdout"
        }
      ]
    },
    {
      "cell_type": "code",
      "metadata": {
        "id": "kqj0QWmz9ZYB",
        "colab_type": "code",
        "colab": {},
        "outputId": "125c493e-0cdd-4121-cef3-2c1eaabb8d4c"
      },
      "source": [
        "y_pred_proba = clf.predict_proba(x_test)[::,1]\n",
        "fpr, tpr, _ = metrics.roc_curve(y_test,  y_pred_proba)\n",
        "auc_r = metrics.roc_auc_score(y_test, y_pred_proba)\n",
        "plt.plot(fpr,tpr,label=\"data 1, auc=\"+str(auc_r))\n",
        "plt.legend(loc=4)\n",
        "plt.show()"
      ],
      "execution_count": 0,
      "outputs": [
        {
          "output_type": "display_data",
          "data": {
            "image/png": "[encoded data removed]",
            "text/plain": [
              "<Figure size 432x288 with 1 Axes>"
            ]
          },
          "metadata": {
            "tags": [],
            "needs_background": "light"
          }
        }
      ]
    },
    {
      "cell_type": "markdown",
      "metadata": {
        "id": "PeieMSF09ZYD",
        "colab_type": "text"
      },
      "source": [
        "#### 2. Balanced"
      ]
    },
    {
      "cell_type": "markdown",
      "metadata": {
        "id": "6t-Z0MQe9ZYD",
        "colab_type": "text"
      },
      "source": [
        "Undersampling"
      ]
    },
    {
      "cell_type": "code",
      "metadata": {
        "id": "kQbOSEYs9ZYD",
        "colab_type": "code",
        "colab": {}
      },
      "source": [
        "clf = RFC.fit(x_rus, y_rus)\n",
        "y_pred = clf.predict(x_test)"
      ],
      "execution_count": 0,
      "outputs": []
    },
    {
      "cell_type": "code",
      "metadata": {
        "id": "ooZzPTm99ZYE",
        "colab_type": "code",
        "colab": {},
        "outputId": "4de5c209-c124-46bc-cf82-feb5e3af5472"
      },
      "source": [
        "cnf_matrix = metrics.confusion_matrix(y_test, y_pred)\n",
        "sen_ru=metrics.recall_score(y_test, y_pred)\n",
        "print(\"Accuracy normalizando:\",metrics.accuracy_score(y_test,y_pred))\n",
        "print(cnf_matrix)"
      ],
      "execution_count": 0,
      "outputs": [
        {
          "output_type": "stream",
          "text": [
            "Accuracy normalizando: 0.8007414272474513\n",
            "[[13418  3328]\n",
            " [  327  1270]]\n"
          ],
          "name": "stdout"
        }
      ]
    },
    {
      "cell_type": "code",
      "metadata": {
        "id": "suc7NTnu9ZYG",
        "colab_type": "code",
        "colab": {},
        "outputId": "6e8dc60f-dab8-44c2-86d4-8f6c3613b4de"
      },
      "source": [
        "y_pred_proba = clf.predict_proba(x_test)[::,1]\n",
        "fpr, tpr, _ = metrics.roc_curve(y_test,  y_pred_proba)\n",
        "auc_ru = metrics.roc_auc_score(y_test, y_pred_proba)\n",
        "plt.plot(fpr,tpr,label=\"data 1, auc=\"+str(auc_ru))\n",
        "plt.legend(loc=4)\n",
        "plt.show()"
      ],
      "execution_count": 0,
      "outputs": [
        {
          "output_type": "display_data",
          "data": {
            "image/png": "[encoded data removed]",
            "text/plain": [
              "<Figure size 432x288 with 1 Axes>"
            ]
          },
          "metadata": {
            "tags": [],
            "needs_background": "light"
          }
        }
      ]
    },
    {
      "cell_type": "markdown",
      "metadata": {
        "id": "Vj1LZUyV9ZYI",
        "colab_type": "text"
      },
      "source": [
        "Oversampling"
      ]
    },
    {
      "cell_type": "code",
      "metadata": {
        "id": "QywbGFeI9ZYI",
        "colab_type": "code",
        "colab": {}
      },
      "source": [
        "clf = RFC.fit(x_ros, y_ros)\n",
        "y_pred = clf.predict(x_test)"
      ],
      "execution_count": 0,
      "outputs": []
    },
    {
      "cell_type": "code",
      "metadata": {
        "id": "rBQ8yPY99ZYJ",
        "colab_type": "code",
        "colab": {},
        "outputId": "c76bab48-cfb2-4ddc-877a-d3e234c14471"
      },
      "source": [
        "cnf_matrix = metrics.confusion_matrix(y_test, y_pred)\n",
        "sen_ro=metrics.recall_score(y_test, y_pred)\n",
        "print(\"Accuracy normalizando:\",metrics.accuracy_score(y_test,y_pred))\n",
        "print(cnf_matrix)"
      ],
      "execution_count": 0,
      "outputs": [
        {
          "output_type": "stream",
          "text": [
            "Accuracy normalizando: 0.924221773973723\n",
            "[[16493   253]\n",
            " [ 1137   460]]\n"
          ],
          "name": "stdout"
        }
      ]
    },
    {
      "cell_type": "code",
      "metadata": {
        "id": "s4caMwCN9ZYK",
        "colab_type": "code",
        "colab": {},
        "outputId": "14d920e2-ca5a-464d-e8a4-202cad6fb7d2"
      },
      "source": [
        "y_pred_proba = clf.predict_proba(x_test)[::,1]\n",
        "fpr, tpr, _ = metrics.roc_curve(y_test,  y_pred_proba)\n",
        "auc_ro = metrics.roc_auc_score(y_test, y_pred_proba)\n",
        "plt.plot(fpr,tpr,label=\"data 1, auc=\"+str(auc_ro))\n",
        "plt.legend(loc=4)\n",
        "plt.show()"
      ],
      "execution_count": 0,
      "outputs": [
        {
          "output_type": "display_data",
          "data": {
            "image/png": "[encoded data removed]",
            "text/plain": [
              "<Figure size 432x288 with 1 Axes>"
            ]
          },
          "metadata": {
            "tags": [],
            "needs_background": "light"
          }
        }
      ]
    },
    {
      "cell_type": "markdown",
      "metadata": {
        "id": "a3qrEvYi9ZYN",
        "colab_type": "text"
      },
      "source": [
        "## SVM (support vector machine)"
      ]
    },
    {
      "cell_type": "code",
      "metadata": {
        "id": "sooQsMhc9ZYO",
        "colab_type": "code",
        "colab": {}
      },
      "source": [
        "from sklearn import svm\n",
        "svm_clf = svm.SVC(kernel='linear') # Linear Kernel"
      ],
      "execution_count": 0,
      "outputs": []
    },
    {
      "cell_type": "code",
      "metadata": {
        "id": "k1Pjadm69ZYQ",
        "colab_type": "code",
        "colab": {},
        "outputId": "dad19440-525b-4b20-c0e3-a9120b9788c2"
      },
      "source": [
        "'''svm_clf.fit(x_train, y_train)'''"
      ],
      "execution_count": 0,
      "outputs": [
        {
          "output_type": "execute_result",
          "data": {
            "text/plain": [
              "'svm_clf.fit(x_train, y_train)'"
            ]
          },
          "metadata": {
            "tags": []
          },
          "execution_count": 90
        }
      ]
    },
    {
      "cell_type": "code",
      "metadata": {
        "id": "bhg7OhpT9ZYR",
        "colab_type": "code",
        "colab": {}
      },
      "source": [
        "y_pred = svm_clf.predict(x_test)"
      ],
      "execution_count": 0,
      "outputs": []
    },
    {
      "cell_type": "code",
      "metadata": {
        "id": "YsFRmwe29ZYT",
        "colab_type": "code",
        "colab": {}
      },
      "source": [
        "cnf_matrix = metrics.confusion_matrix(y_test, y_pred)\n",
        "print(\"Accuracy normalizando:\",metrics.accuracy_score(y_test,y_pred))\n",
        "print(cnf_matrix)"
      ],
      "execution_count": 0,
      "outputs": []
    },
    {
      "cell_type": "code",
      "metadata": {
        "id": "W_EDNpjC9ZYV",
        "colab_type": "code",
        "colab": {}
      },
      "source": [
        "y_pred_proba = clf.predict_proba(x_test)[::,1]\n",
        "fpr, tpr, _ = metrics.roc_curve(y_test,  y_pred_proba)\n",
        "auc = metrics.roc_auc_score(y_test, y_pred_proba)\n",
        "plt.plot(fpr,tpr,label=\"data 1, auc=\"+str(auc))\n",
        "plt.legend(loc=4)\n",
        "plt.show()"
      ],
      "execution_count": 0,
      "outputs": []
    },
    {
      "cell_type": "code",
      "metadata": {
        "id": "osM6JZmO9ZYW",
        "colab_type": "code",
        "colab": {}
      },
      "source": [
        ""
      ],
      "execution_count": 0,
      "outputs": []
    },
    {
      "cell_type": "markdown",
      "metadata": {
        "id": "0l_8F_wR9ZYY",
        "colab_type": "text"
      },
      "source": [
        "# Comparison"
      ]
    },
    {
      "cell_type": "code",
      "metadata": {
        "id": "88LaZf5V9ZYZ",
        "colab_type": "code",
        "colab": {}
      },
      "source": [
        "from tabulate import tabulate"
      ],
      "execution_count": 0,
      "outputs": []
    },
    {
      "cell_type": "markdown",
      "metadata": {
        "id": "HFTp--vV9ZYb",
        "colab_type": "text"
      },
      "source": [
        "Resultados: Normalmente mejor con oversampling "
      ]
    },
    {
      "cell_type": "markdown",
      "metadata": {
        "id": "seTgIfIz9ZYb",
        "colab_type": "text"
      },
      "source": [
        "#### 1. Oversampling"
      ]
    },
    {
      "cell_type": "code",
      "metadata": {
        "id": "doHvarh79ZYb",
        "colab_type": "code",
        "colab": {},
        "outputId": "6f858969-f45a-4dae-ccba-7fe3570f8e47"
      },
      "source": [
        "#rasultados validación\n",
        "resultados = [['  ', 'LDA','Mayoria de votos','Boosted Trees','Random Forest'],\n",
        "         ['Auc', auc_fo, auc_mo, auc_bo, auc_ro],\n",
        "         ['Sensibilidad', sen_fo, sen_mo, sen_bo, sen_ro]]\n",
        "print(tabulate(resultados, headers='firstrow', tablefmt='fancy_grid'))"
      ],
      "execution_count": 0,
      "outputs": [
        {
          "output_type": "stream",
          "text": [
            "╒══════════════╤══════════╤════════════════════╤═════════════════╤═════════════════╕\n",
            "│              │      LDA │   Mayoria de votos │   Boosted Trees │   Random Forest │\n",
            "╞══════════════╪══════════╪════════════════════╪═════════════════╪═════════════════╡\n",
            "│ Auc          │ 0.875703 │           0.88637  │        0.885037 │        0.879891 │\n",
            "├──────────────┼──────────┼────────────────────┼─────────────────┼─────────────────┤\n",
            "│ Sensibilidad │ 0.771446 │           0.599875 │        0.785222 │        0.28804  │\n",
            "╘══════════════╧══════════╧════════════════════╧═════════════════╧═════════════════╛\n"
          ],
          "name": "stdout"
        }
      ]
    },
    {
      "cell_type": "markdown",
      "metadata": {
        "id": "fLu_PVBj9ZYf",
        "colab_type": "text"
      },
      "source": [
        "#### 2. Undersampling"
      ]
    },
    {
      "cell_type": "code",
      "metadata": {
        "id": "ct1Scmpt9ZYf",
        "colab_type": "code",
        "colab": {},
        "outputId": "6f529fa5-1d3a-4121-c175-d81f99fbe52f"
      },
      "source": [
        "resultados = [['  ', 'LDA','Mayoria de votos','Boosted Trees','Random Forest'],\n",
        "         ['Auc', auc_fu, auc_mu, auc_bu, auc_ru],\n",
        "         ['Sensibilidad', sen_fu, sen_mu, sen_bu, sen_ru]]\n",
        "print(tabulate(resultados, headers='firstrow', tablefmt='fancy_grid'))"
      ],
      "execution_count": 0,
      "outputs": [
        {
          "output_type": "stream",
          "text": [
            "╒══════════════╤══════════╤════════════════════╤═════════════════╤═════════════════╕\n",
            "│              │      LDA │   Mayoria de votos │   Boosted Trees │   Random Forest │\n",
            "╞══════════════╪══════════╪════════════════════╪═════════════════╪═════════════════╡\n",
            "│ Auc          │ 0.875786 │           0.885604 │        0.882847 │        0.879371 │\n",
            "├──────────────┼──────────┼────────────────────┼─────────────────┼─────────────────┤\n",
            "│ Sensibilidad │ 0.763306 │           0.793363 │        0.784596 │        0.795241 │\n",
            "╘══════════════╧══════════╧════════════════════╧═════════════════╧═════════════════╛\n"
          ],
          "name": "stdout"
        }
      ]
    },
    {
      "cell_type": "markdown",
      "metadata": {
        "id": "OX2JK3Pn9ZYh",
        "colab_type": "text"
      },
      "source": [
        "#### 3. Unbalanced"
      ]
    },
    {
      "cell_type": "code",
      "metadata": {
        "id": "AO4RUK-x9ZYh",
        "colab_type": "code",
        "colab": {},
        "outputId": "937c5e43-9aa2-43bd-debf-2a088853157c"
      },
      "source": [
        "resultados = [['  ', 'LDA','Mayoria de votos','Boosted Trees','Random Forest'],\n",
        "         ['Auc', auc_f, auc_m, auc_b, auc_r],\n",
        "         ['Sensibilidad', sen_f, sen_m, sen_b, sen_r]]\n",
        "print(tabulate(resultados, headers='firstrow', tablefmt='fancy_grid'))"
      ],
      "execution_count": 0,
      "outputs": [
        {
          "output_type": "stream",
          "text": [
            "╒══════════════╤══════════╤════════════════════╤═════════════════╤═════════════════╕\n",
            "│              │      LDA │   Mayoria de votos │   Boosted Trees │   Random Forest │\n",
            "╞══════════════╪══════════╪════════════════════╪═════════════════╪═════════════════╡\n",
            "│ Auc          │ 0.866805 │           0.886274 │        0.883574 │        0.874791 │\n",
            "├──────────────┼──────────┼────────────────────┼─────────────────┼─────────────────┤\n",
            "│ Sensibilidad │ 0.406387 │           0.304321 │        0.313713 │        0.278021 │\n",
            "╘══════════════╧══════════╧════════════════════╧═════════════════╧═════════════════╛\n"
          ],
          "name": "stdout"
        }
      ]
    },
    {
      "cell_type": "code",
      "metadata": {
        "id": "teE7TSdy9ZYo",
        "colab_type": "code",
        "colab": {}
      },
      "source": [
        ""
      ],
      "execution_count": 0,
      "outputs": []
    }
  ]
}