{
  "nbformat": 4,
  "nbformat_minor": 0,
  "metadata": {
    "kernelspec": {
      "display_name": "Python 3",
      "language": "python",
      "name": "python3"
    },
    "language_info": {
      "codemirror_mode": {
        "name": "ipython",
        "version": 3
      },
      "file_extension": ".py",
      "mimetype": "text/x-python",
      "name": "python",
      "nbconvert_exporter": "python",
      "pygments_lexer": "ipython3",
      "version": "3.7.4"
    },
    "colab": {
      "name": "ICU_Mortality_Prediction_classification.ipynb",
      "provenance": [],
      "include_colab_link": true
    }
  },
  "cells": [
    {
      "cell_type": "markdown",
      "metadata": {
        "id": "view-in-github",
        "colab_type": "text"
      },
      "source": [
        "<a href=\"https://colab.research.google.com/github/vdvran/ICU/blob/master/ICU_Mortality_Prediction_classification.ipynb\" target=\"_parent\"><img src=\"https://colab.research.google.com/assets/colab-badge.svg\" alt=\"Open In Colab\"/></a>"
      ]
    },
    {
      "cell_type": "markdown",
      "metadata": {
        "id": "YVX-kZmZZv1Q",
        "colab_type": "text"
      },
      "source": [
        "## ICU Mortality Prediction Classification\n"
      ]
    },
    {
      "cell_type": "code",
      "metadata": {
        "id": "70rFUAbzZv1V",
        "colab_type": "code",
        "colab": {}
      },
      "source": [
        "# Import libraries\n",
        "import numpy as np\n",
        "import matplotlib\n",
        "import scipy.stats as ss\n",
        "import matplotlib.pyplot as plt\n",
        "import pandas as pd\n",
        "import seaborn as sns\n",
        "from plotly.offline import init_notebook_mode,iplot\n",
        "import plotly.graph_objects as go\n",
        "from sklearn.impute import SimpleImputer\n",
        "from sklearn.model_selection import train_test_split\n",
        "from sklearn.feature_selection import SelectKBest\n",
        "from sklearn.feature_selection import f_classif\n",
        "from sklearn.feature_selection import RFE\n",
        "from sklearn.ensemble import ExtraTreesClassifier\n",
        "from sklearn.preprocessing import LabelEncoder\n",
        "from sklearn import preprocessing"
      ],
      "execution_count": 0,
      "outputs": []
    },
    {
      "cell_type": "code",
      "metadata": {
        "id": "e-pOh3T7Zv1l",
        "colab_type": "code",
        "colab": {}
      },
      "source": [
        "from google.colab import drive\n",
        "drive.mount('/content/drive', force_remount=True)"
      ],
      "execution_count": 0,
      "outputs": []
    },
    {
      "cell_type": "code",
      "metadata": {
        "id": "gAkcpamFZv1w",
        "colab_type": "code",
        "colab": {}
      },
      "source": [
        "data = pd.read_csv(\"/content/drive/My Drive/pre_ICU_Mortality_Prediction.csv\")"
      ],
      "execution_count": 0,
      "outputs": []
    },
    {
      "cell_type": "code",
      "metadata": {
        "id": "Tp2l6DmCZv17",
        "colab_type": "code",
        "colab": {},
        "outputId": "21d838b8-f000-482a-9f4b-2ccd05cd078d"
      },
      "source": [
        "data=data.drop(['Unnamed: 0'], axis=1)\n",
        "data.head()"
      ],
      "execution_count": 0,
      "outputs": [
        {
          "output_type": "execute_result",
          "data": {
            "text/html": [
              "<div>\n",
              "<style scoped>\n",
              "    .dataframe tbody tr th:only-of-type {\n",
              "        vertical-align: middle;\n",
              "    }\n",
              "\n",
              "    .dataframe tbody tr th {\n",
              "        vertical-align: top;\n",
              "    }\n",
              "\n",
              "    .dataframe thead th {\n",
              "        text-align: right;\n",
              "    }\n",
              "</style>\n",
              "<table border=\"1\" class=\"dataframe\">\n",
              "  <thead>\n",
              "    <tr style=\"text-align: right;\">\n",
              "      <th></th>\n",
              "      <th>hospital_death</th>\n",
              "      <th>age</th>\n",
              "      <th>bmi</th>\n",
              "      <th>elective_surgery</th>\n",
              "      <th>height</th>\n",
              "      <th>pre_icu_los_days</th>\n",
              "      <th>readmission_status</th>\n",
              "      <th>weight</th>\n",
              "      <th>apache_2_diagnosis</th>\n",
              "      <th>apache_3j_diagnosis</th>\n",
              "      <th>...</th>\n",
              "      <th>apache_2_bodysystem_Cardiovascular</th>\n",
              "      <th>apache_2_bodysystem_Gastrointestinal</th>\n",
              "      <th>apache_2_bodysystem_Haematologic</th>\n",
              "      <th>apache_2_bodysystem_Metabolic</th>\n",
              "      <th>apache_2_bodysystem_Neurologic</th>\n",
              "      <th>apache_2_bodysystem_Renal/Genitourinary</th>\n",
              "      <th>apache_2_bodysystem_Respiratory</th>\n",
              "      <th>apache_2_bodysystem_Trauma</th>\n",
              "      <th>apache_2_bodysystem_Undefined Diagnoses</th>\n",
              "      <th>apache_2_bodysystem_Undefined diagnoses</th>\n",
              "    </tr>\n",
              "  </thead>\n",
              "  <tbody>\n",
              "    <tr>\n",
              "      <td>0</td>\n",
              "      <td>0.0</td>\n",
              "      <td>68.0</td>\n",
              "      <td>22.730000</td>\n",
              "      <td>0.0</td>\n",
              "      <td>180.3</td>\n",
              "      <td>0.541667</td>\n",
              "      <td>0.0</td>\n",
              "      <td>73.9</td>\n",
              "      <td>113.0</td>\n",
              "      <td>502.01</td>\n",
              "      <td>...</td>\n",
              "      <td>1</td>\n",
              "      <td>0</td>\n",
              "      <td>0</td>\n",
              "      <td>0</td>\n",
              "      <td>0</td>\n",
              "      <td>0</td>\n",
              "      <td>0</td>\n",
              "      <td>0</td>\n",
              "      <td>0</td>\n",
              "      <td>0</td>\n",
              "    </tr>\n",
              "    <tr>\n",
              "      <td>1</td>\n",
              "      <td>0.0</td>\n",
              "      <td>77.0</td>\n",
              "      <td>27.420000</td>\n",
              "      <td>0.0</td>\n",
              "      <td>160.0</td>\n",
              "      <td>0.927778</td>\n",
              "      <td>0.0</td>\n",
              "      <td>70.2</td>\n",
              "      <td>108.0</td>\n",
              "      <td>203.01</td>\n",
              "      <td>...</td>\n",
              "      <td>0</td>\n",
              "      <td>0</td>\n",
              "      <td>0</td>\n",
              "      <td>0</td>\n",
              "      <td>0</td>\n",
              "      <td>0</td>\n",
              "      <td>1</td>\n",
              "      <td>0</td>\n",
              "      <td>0</td>\n",
              "      <td>0</td>\n",
              "    </tr>\n",
              "    <tr>\n",
              "      <td>2</td>\n",
              "      <td>0.0</td>\n",
              "      <td>25.0</td>\n",
              "      <td>31.950000</td>\n",
              "      <td>0.0</td>\n",
              "      <td>172.7</td>\n",
              "      <td>0.000694</td>\n",
              "      <td>0.0</td>\n",
              "      <td>95.3</td>\n",
              "      <td>122.0</td>\n",
              "      <td>703.03</td>\n",
              "      <td>...</td>\n",
              "      <td>0</td>\n",
              "      <td>0</td>\n",
              "      <td>0</td>\n",
              "      <td>1</td>\n",
              "      <td>0</td>\n",
              "      <td>0</td>\n",
              "      <td>0</td>\n",
              "      <td>0</td>\n",
              "      <td>0</td>\n",
              "      <td>0</td>\n",
              "    </tr>\n",
              "    <tr>\n",
              "      <td>3</td>\n",
              "      <td>0.0</td>\n",
              "      <td>81.0</td>\n",
              "      <td>22.640000</td>\n",
              "      <td>1.0</td>\n",
              "      <td>165.1</td>\n",
              "      <td>0.000694</td>\n",
              "      <td>0.0</td>\n",
              "      <td>61.7</td>\n",
              "      <td>203.0</td>\n",
              "      <td>1206.03</td>\n",
              "      <td>...</td>\n",
              "      <td>1</td>\n",
              "      <td>0</td>\n",
              "      <td>0</td>\n",
              "      <td>0</td>\n",
              "      <td>0</td>\n",
              "      <td>0</td>\n",
              "      <td>0</td>\n",
              "      <td>0</td>\n",
              "      <td>0</td>\n",
              "      <td>0</td>\n",
              "    </tr>\n",
              "    <tr>\n",
              "      <td>4</td>\n",
              "      <td>0.0</td>\n",
              "      <td>19.0</td>\n",
              "      <td>27.654655</td>\n",
              "      <td>0.0</td>\n",
              "      <td>188.0</td>\n",
              "      <td>0.073611</td>\n",
              "      <td>0.0</td>\n",
              "      <td>80.3</td>\n",
              "      <td>119.0</td>\n",
              "      <td>601.01</td>\n",
              "      <td>...</td>\n",
              "      <td>0</td>\n",
              "      <td>0</td>\n",
              "      <td>0</td>\n",
              "      <td>0</td>\n",
              "      <td>0</td>\n",
              "      <td>0</td>\n",
              "      <td>0</td>\n",
              "      <td>1</td>\n",
              "      <td>0</td>\n",
              "      <td>0</td>\n",
              "    </tr>\n",
              "  </tbody>\n",
              "</table>\n",
              "<p>5 rows × 110 columns</p>\n",
              "</div>"
            ],
            "text/plain": [
              "   hospital_death   age        bmi  elective_surgery  height  \\\n",
              "0             0.0  68.0  22.730000               0.0   180.3   \n",
              "1             0.0  77.0  27.420000               0.0   160.0   \n",
              "2             0.0  25.0  31.950000               0.0   172.7   \n",
              "3             0.0  81.0  22.640000               1.0   165.1   \n",
              "4             0.0  19.0  27.654655               0.0   188.0   \n",
              "\n",
              "   pre_icu_los_days  readmission_status  weight  apache_2_diagnosis  \\\n",
              "0          0.541667                 0.0    73.9               113.0   \n",
              "1          0.927778                 0.0    70.2               108.0   \n",
              "2          0.000694                 0.0    95.3               122.0   \n",
              "3          0.000694                 0.0    61.7               203.0   \n",
              "4          0.073611                 0.0    80.3               119.0   \n",
              "\n",
              "   apache_3j_diagnosis  ...  apache_2_bodysystem_Cardiovascular  \\\n",
              "0               502.01  ...                                   1   \n",
              "1               203.01  ...                                   0   \n",
              "2               703.03  ...                                   0   \n",
              "3              1206.03  ...                                   1   \n",
              "4               601.01  ...                                   0   \n",
              "\n",
              "   apache_2_bodysystem_Gastrointestinal  apache_2_bodysystem_Haematologic  \\\n",
              "0                                     0                                 0   \n",
              "1                                     0                                 0   \n",
              "2                                     0                                 0   \n",
              "3                                     0                                 0   \n",
              "4                                     0                                 0   \n",
              "\n",
              "   apache_2_bodysystem_Metabolic  apache_2_bodysystem_Neurologic  \\\n",
              "0                              0                               0   \n",
              "1                              0                               0   \n",
              "2                              1                               0   \n",
              "3                              0                               0   \n",
              "4                              0                               0   \n",
              "\n",
              "   apache_2_bodysystem_Renal/Genitourinary  apache_2_bodysystem_Respiratory  \\\n",
              "0                                        0                                0   \n",
              "1                                        0                                1   \n",
              "2                                        0                                0   \n",
              "3                                        0                                0   \n",
              "4                                        0                                0   \n",
              "\n",
              "   apache_2_bodysystem_Trauma  apache_2_bodysystem_Undefined Diagnoses  \\\n",
              "0                           0                                        0   \n",
              "1                           0                                        0   \n",
              "2                           0                                        0   \n",
              "3                           0                                        0   \n",
              "4                           1                                        0   \n",
              "\n",
              "   apache_2_bodysystem_Undefined diagnoses  \n",
              "0                                        0  \n",
              "1                                        0  \n",
              "2                                        0  \n",
              "3                                        0  \n",
              "4                                        0  \n",
              "\n",
              "[5 rows x 110 columns]"
            ]
          },
          "metadata": {
            "tags": []
          },
          "execution_count": 4
        }
      ]
    },
    {
      "cell_type": "markdown",
      "metadata": {
        "id": "qQ5S4gKIZv2J",
        "colab_type": "text"
      },
      "source": [
        "# Content\n",
        "\n",
        "**1. General info**\n",
        "\n",
        "    a) df visualisation (ICU Mortality Prediction Visualization Notebook)\n",
        "  \n",
        "    b)  drop variables with a lot of missing values (ICU Mortality Prediction Preprocessing Notebook)\n",
        "  \n",
        "  \n",
        "**2. Remove outliers** (ICU Mortality Prediction Preprocessing Notebook)\n",
        "\n",
        "\n",
        "**3. Replace missing values** (ICU Mortality Prediction Preprocessing Notebook)\n",
        "\n",
        "\n",
        "**4. One Hot Encoding** (ICU Mortality Prediction Preprocessing Notebook)\n",
        "\n",
        "\n",
        "**5. Normalisation** (ICU Mortality Prediction Classification Notebook)\n",
        "\n",
        "    a) x, y and train_test_split \n",
        "\n",
        "    b) Standarisation \n",
        "\n",
        "**6. Feature Selection** (ICU Mortality Prediction Classification Notebook)\n",
        "\n",
        "    a) Feature importance\n",
        "\n",
        "    b) Algoritmo univariante --> Prueba F de Fisher\n",
        "\n",
        "    c) Eliminación Recursiva de atributos --> \n",
        " \n",
        " **7. Umbalanced** (ICU Mortality Prediction Classification Notebook)\n",
        " \n",
        " **8. Classification** (ICU Mortality Prediction Classification Notebook)\n",
        " \n",
        "    a) LDA (Fisher)\n",
        " \n",
        "    b) Mayoría de votos\n",
        " \n",
        "    c) Boosted trees\n",
        "   \n",
        "    d) Random forest"
      ]
    },
    {
      "cell_type": "markdown",
      "metadata": {
        "id": "lHi7rACEZv2L",
        "colab_type": "text"
      },
      "source": [
        "\n",
        "---------\n"
      ]
    },
    {
      "cell_type": "markdown",
      "metadata": {
        "id": "Jph2K-7uZv2N",
        "colab_type": "text"
      },
      "source": [
        "# Normalisation"
      ]
    },
    {
      "cell_type": "markdown",
      "metadata": {
        "id": "pb_ULnd8Zv2P",
        "colab_type": "text"
      },
      "source": [
        "## Train and Test"
      ]
    },
    {
      "cell_type": "code",
      "metadata": {
        "id": "r-cZtHOXZv2R",
        "colab_type": "code",
        "colab": {}
      },
      "source": [
        "y = data['hospital_death']\n",
        "x = data.loc[:, data.columns != 'hospital_death']\n",
        "x_train, x_test, y_train, y_test = train_test_split(x, y, test_size=0.2, random_state=1)"
      ],
      "execution_count": 0,
      "outputs": []
    },
    {
      "cell_type": "code",
      "metadata": {
        "id": "BL58AnYSZv2Z",
        "colab_type": "code",
        "colab": {}
      },
      "source": [
        "names = x_train.columns\n",
        "\n",
        "scaler = preprocessing.StandardScaler()\n",
        "\n",
        "x_train = scaler.fit_transform(x_train)\n",
        "x_train = pd.DataFrame(x_train, columns=names)"
      ],
      "execution_count": 0,
      "outputs": []
    },
    {
      "cell_type": "markdown",
      "metadata": {
        "id": "bZ427tRaZv2h",
        "colab_type": "text"
      },
      "source": [
        "-------"
      ]
    },
    {
      "cell_type": "markdown",
      "metadata": {
        "id": "OIn1uDWnZv2i",
        "colab_type": "text"
      },
      "source": [
        "# Feature selection"
      ]
    },
    {
      "cell_type": "markdown",
      "metadata": {
        "id": "4mtUgGW0Zv2j",
        "colab_type": "text"
      },
      "source": [
        "## Feature importance"
      ]
    },
    {
      "cell_type": "code",
      "metadata": {
        "id": "VfrJDDBiZv2k",
        "colab_type": "code",
        "colab": {},
        "outputId": "a58fb8f0-4048-4fcf-d431-49981fb517b2"
      },
      "source": [
        "threshold = 0.9\n",
        "# Absolute value correlation matrix\n",
        "corr_matrix = x.corr().abs()\n",
        "corr_matrix.head()"
      ],
      "execution_count": 0,
      "outputs": [
        {
          "output_type": "execute_result",
          "data": {
            "text/html": [
              "<div>\n",
              "<style scoped>\n",
              "    .dataframe tbody tr th:only-of-type {\n",
              "        vertical-align: middle;\n",
              "    }\n",
              "\n",
              "    .dataframe tbody tr th {\n",
              "        vertical-align: top;\n",
              "    }\n",
              "\n",
              "    .dataframe thead th {\n",
              "        text-align: right;\n",
              "    }\n",
              "</style>\n",
              "<table border=\"1\" class=\"dataframe\">\n",
              "  <thead>\n",
              "    <tr style=\"text-align: right;\">\n",
              "      <th></th>\n",
              "      <th>age</th>\n",
              "      <th>bmi</th>\n",
              "      <th>elective_surgery</th>\n",
              "      <th>height</th>\n",
              "      <th>pre_icu_los_days</th>\n",
              "      <th>readmission_status</th>\n",
              "      <th>weight</th>\n",
              "      <th>apache_2_diagnosis</th>\n",
              "      <th>apache_3j_diagnosis</th>\n",
              "      <th>apache_post_operative</th>\n",
              "      <th>...</th>\n",
              "      <th>apache_2_bodysystem_Cardiovascular</th>\n",
              "      <th>apache_2_bodysystem_Gastrointestinal</th>\n",
              "      <th>apache_2_bodysystem_Haematologic</th>\n",
              "      <th>apache_2_bodysystem_Metabolic</th>\n",
              "      <th>apache_2_bodysystem_Neurologic</th>\n",
              "      <th>apache_2_bodysystem_Renal/Genitourinary</th>\n",
              "      <th>apache_2_bodysystem_Respiratory</th>\n",
              "      <th>apache_2_bodysystem_Trauma</th>\n",
              "      <th>apache_2_bodysystem_Undefined Diagnoses</th>\n",
              "      <th>apache_2_bodysystem_Undefined diagnoses</th>\n",
              "    </tr>\n",
              "  </thead>\n",
              "  <tbody>\n",
              "    <tr>\n",
              "      <td>age</td>\n",
              "      <td>1.000000</td>\n",
              "      <td>0.086472</td>\n",
              "      <td>0.064523</td>\n",
              "      <td>0.109526</td>\n",
              "      <td>0.049163</td>\n",
              "      <td>NaN</td>\n",
              "      <td>0.126515</td>\n",
              "      <td>0.020766</td>\n",
              "      <td>0.056479</td>\n",
              "      <td>0.056585</td>\n",
              "      <td>...</td>\n",
              "      <td>0.155293</td>\n",
              "      <td>0.050252</td>\n",
              "      <td>0.005158</td>\n",
              "      <td>0.286280</td>\n",
              "      <td>0.008042</td>\n",
              "      <td>0.030091</td>\n",
              "      <td>0.024166</td>\n",
              "      <td>0.083385</td>\n",
              "      <td>0.028262</td>\n",
              "      <td>0.027576</td>\n",
              "    </tr>\n",
              "    <tr>\n",
              "      <td>bmi</td>\n",
              "      <td>0.086472</td>\n",
              "      <td>1.000000</td>\n",
              "      <td>0.015975</td>\n",
              "      <td>0.052753</td>\n",
              "      <td>0.000160</td>\n",
              "      <td>NaN</td>\n",
              "      <td>0.873599</td>\n",
              "      <td>0.024247</td>\n",
              "      <td>0.006238</td>\n",
              "      <td>0.015509</td>\n",
              "      <td>...</td>\n",
              "      <td>0.038734</td>\n",
              "      <td>0.022638</td>\n",
              "      <td>0.007969</td>\n",
              "      <td>0.048204</td>\n",
              "      <td>0.025929</td>\n",
              "      <td>0.039787</td>\n",
              "      <td>0.018304</td>\n",
              "      <td>0.048079</td>\n",
              "      <td>0.017027</td>\n",
              "      <td>0.031674</td>\n",
              "    </tr>\n",
              "    <tr>\n",
              "      <td>elective_surgery</td>\n",
              "      <td>0.064523</td>\n",
              "      <td>0.015975</td>\n",
              "      <td>1.000000</td>\n",
              "      <td>0.023238</td>\n",
              "      <td>0.131843</td>\n",
              "      <td>NaN</td>\n",
              "      <td>0.026468</td>\n",
              "      <td>0.356357</td>\n",
              "      <td>0.775327</td>\n",
              "      <td>0.908247</td>\n",
              "      <td>...</td>\n",
              "      <td>0.066016</td>\n",
              "      <td>0.099491</td>\n",
              "      <td>0.036999</td>\n",
              "      <td>0.133043</td>\n",
              "      <td>0.034251</td>\n",
              "      <td>0.043393</td>\n",
              "      <td>0.069350</td>\n",
              "      <td>0.034419</td>\n",
              "      <td>0.028278</td>\n",
              "      <td>0.398976</td>\n",
              "    </tr>\n",
              "    <tr>\n",
              "      <td>height</td>\n",
              "      <td>0.109526</td>\n",
              "      <td>0.052753</td>\n",
              "      <td>0.023238</td>\n",
              "      <td>1.000000</td>\n",
              "      <td>0.008589</td>\n",
              "      <td>NaN</td>\n",
              "      <td>0.386629</td>\n",
              "      <td>0.001860</td>\n",
              "      <td>0.014964</td>\n",
              "      <td>0.024890</td>\n",
              "      <td>...</td>\n",
              "      <td>0.001075</td>\n",
              "      <td>0.010554</td>\n",
              "      <td>0.010751</td>\n",
              "      <td>0.014140</td>\n",
              "      <td>0.013265</td>\n",
              "      <td>0.027789</td>\n",
              "      <td>0.025513</td>\n",
              "      <td>0.041862</td>\n",
              "      <td>0.004965</td>\n",
              "      <td>0.041981</td>\n",
              "    </tr>\n",
              "    <tr>\n",
              "      <td>pre_icu_los_days</td>\n",
              "      <td>0.049163</td>\n",
              "      <td>0.000160</td>\n",
              "      <td>0.131843</td>\n",
              "      <td>0.008589</td>\n",
              "      <td>1.000000</td>\n",
              "      <td>NaN</td>\n",
              "      <td>0.003593</td>\n",
              "      <td>0.077699</td>\n",
              "      <td>0.087556</td>\n",
              "      <td>0.125819</td>\n",
              "      <td>...</td>\n",
              "      <td>0.003831</td>\n",
              "      <td>0.035804</td>\n",
              "      <td>0.002740</td>\n",
              "      <td>0.067671</td>\n",
              "      <td>0.040215</td>\n",
              "      <td>0.005358</td>\n",
              "      <td>0.045748</td>\n",
              "      <td>0.045316</td>\n",
              "      <td>0.007551</td>\n",
              "      <td>0.084121</td>\n",
              "    </tr>\n",
              "  </tbody>\n",
              "</table>\n",
              "<p>5 rows × 109 columns</p>\n",
              "</div>"
            ],
            "text/plain": [
              "                       age       bmi  elective_surgery    height  \\\n",
              "age               1.000000  0.086472          0.064523  0.109526   \n",
              "bmi               0.086472  1.000000          0.015975  0.052753   \n",
              "elective_surgery  0.064523  0.015975          1.000000  0.023238   \n",
              "height            0.109526  0.052753          0.023238  1.000000   \n",
              "pre_icu_los_days  0.049163  0.000160          0.131843  0.008589   \n",
              "\n",
              "                  pre_icu_los_days  readmission_status    weight  \\\n",
              "age                       0.049163                 NaN  0.126515   \n",
              "bmi                       0.000160                 NaN  0.873599   \n",
              "elective_surgery          0.131843                 NaN  0.026468   \n",
              "height                    0.008589                 NaN  0.386629   \n",
              "pre_icu_los_days          1.000000                 NaN  0.003593   \n",
              "\n",
              "                  apache_2_diagnosis  apache_3j_diagnosis  \\\n",
              "age                         0.020766             0.056479   \n",
              "bmi                         0.024247             0.006238   \n",
              "elective_surgery            0.356357             0.775327   \n",
              "height                      0.001860             0.014964   \n",
              "pre_icu_los_days            0.077699             0.087556   \n",
              "\n",
              "                  apache_post_operative  ...  \\\n",
              "age                            0.056585  ...   \n",
              "bmi                            0.015509  ...   \n",
              "elective_surgery               0.908247  ...   \n",
              "height                         0.024890  ...   \n",
              "pre_icu_los_days               0.125819  ...   \n",
              "\n",
              "                  apache_2_bodysystem_Cardiovascular  \\\n",
              "age                                         0.155293   \n",
              "bmi                                         0.038734   \n",
              "elective_surgery                            0.066016   \n",
              "height                                      0.001075   \n",
              "pre_icu_los_days                            0.003831   \n",
              "\n",
              "                  apache_2_bodysystem_Gastrointestinal  \\\n",
              "age                                           0.050252   \n",
              "bmi                                           0.022638   \n",
              "elective_surgery                              0.099491   \n",
              "height                                        0.010554   \n",
              "pre_icu_los_days                              0.035804   \n",
              "\n",
              "                  apache_2_bodysystem_Haematologic  \\\n",
              "age                                       0.005158   \n",
              "bmi                                       0.007969   \n",
              "elective_surgery                          0.036999   \n",
              "height                                    0.010751   \n",
              "pre_icu_los_days                          0.002740   \n",
              "\n",
              "                  apache_2_bodysystem_Metabolic  \\\n",
              "age                                    0.286280   \n",
              "bmi                                    0.048204   \n",
              "elective_surgery                       0.133043   \n",
              "height                                 0.014140   \n",
              "pre_icu_los_days                       0.067671   \n",
              "\n",
              "                  apache_2_bodysystem_Neurologic  \\\n",
              "age                                     0.008042   \n",
              "bmi                                     0.025929   \n",
              "elective_surgery                        0.034251   \n",
              "height                                  0.013265   \n",
              "pre_icu_los_days                        0.040215   \n",
              "\n",
              "                  apache_2_bodysystem_Renal/Genitourinary  \\\n",
              "age                                              0.030091   \n",
              "bmi                                              0.039787   \n",
              "elective_surgery                                 0.043393   \n",
              "height                                           0.027789   \n",
              "pre_icu_los_days                                 0.005358   \n",
              "\n",
              "                  apache_2_bodysystem_Respiratory  apache_2_bodysystem_Trauma  \\\n",
              "age                                      0.024166                    0.083385   \n",
              "bmi                                      0.018304                    0.048079   \n",
              "elective_surgery                         0.069350                    0.034419   \n",
              "height                                   0.025513                    0.041862   \n",
              "pre_icu_los_days                         0.045748                    0.045316   \n",
              "\n",
              "                  apache_2_bodysystem_Undefined Diagnoses  \\\n",
              "age                                              0.028262   \n",
              "bmi                                              0.017027   \n",
              "elective_surgery                                 0.028278   \n",
              "height                                           0.004965   \n",
              "pre_icu_los_days                                 0.007551   \n",
              "\n",
              "                  apache_2_bodysystem_Undefined diagnoses  \n",
              "age                                              0.027576  \n",
              "bmi                                              0.031674  \n",
              "elective_surgery                                 0.398976  \n",
              "height                                           0.041981  \n",
              "pre_icu_los_days                                 0.084121  \n",
              "\n",
              "[5 rows x 109 columns]"
            ]
          },
          "metadata": {
            "tags": []
          },
          "execution_count": 11
        }
      ]
    },
    {
      "cell_type": "code",
      "metadata": {
        "id": "G4nRU4aLZv2o",
        "colab_type": "code",
        "colab": {},
        "outputId": "b7a0daa0-ae2a-4bb3-e097-2899965124a7"
      },
      "source": [
        "# Upper triangle of correlations\n",
        "upper = corr_matrix.where(np.triu(np.ones(corr_matrix.shape), k=1).astype(np.bool))\n",
        "upper.head()\n",
        "# Select columns with correlations above threshold\n",
        "to_drop = [column for column in upper.columns if any(upper[column] > threshold)]\n",
        "print('There are %d columns to remove.' % (len(to_drop)))\n",
        "#Drop the columns with high correlations\n",
        "x = x.drop(columns = to_drop)"
      ],
      "execution_count": 0,
      "outputs": [
        {
          "output_type": "stream",
          "text": [
            "There are 24 columns to remove.\n"
          ],
          "name": "stdout"
        }
      ]
    },
    {
      "cell_type": "code",
      "metadata": {
        "id": "XmRFlwHiZv2s",
        "colab_type": "code",
        "colab": {},
        "outputId": "f862af7a-7d1e-409b-9d5d-5955f331b4a9"
      },
      "source": [
        "# Train missing values (in percent)\n",
        "train_missing = (x.isnull().sum() / len(x)).sort_values(ascending = False)\n",
        "train_missing.head()\n",
        "train_missing = train_missing.index[train_missing > 0.75]\n",
        "print('There are %d columns with more than 75%% missing values' % len(train_missing))\n",
        "x = x.drop(columns = train_missing)"
      ],
      "execution_count": 0,
      "outputs": [
        {
          "output_type": "stream",
          "text": [
            "There are 0 columns with more than 75% missing values\n"
          ],
          "name": "stdout"
        }
      ]
    },
    {
      "cell_type": "code",
      "metadata": {
        "id": "MQgYqmLnZv2x",
        "colab_type": "code",
        "colab": {}
      },
      "source": [
        "feature_importances = np.zeros(x.shape[1])"
      ],
      "execution_count": 0,
      "outputs": []
    },
    {
      "cell_type": "code",
      "metadata": {
        "id": "j3-ik3bGZv24",
        "colab_type": "code",
        "colab": {}
      },
      "source": [
        "import lightgbm as lgb\n",
        "\n",
        "model = lgb.LGBMClassifier(objective='binary', boosting_type = 'goss', n_estimators = 10000, class_weight = 'balanced')"
      ],
      "execution_count": 0,
      "outputs": []
    },
    {
      "cell_type": "code",
      "metadata": {
        "id": "NqABXg-yZv28",
        "colab_type": "code",
        "colab": {},
        "outputId": "f45d0a3d-9736-44b4-aadd-0c9b3d755a47"
      },
      "source": [
        "for i in range(2):\n",
        "    \n",
        "    # Split into training and validation set\n",
        "    train_features, valid_features, train_y, valid_y = train_test_split(x, y, test_size = 0.25, random_state = i)\n",
        "    \n",
        "    # Train using early stopping\n",
        "    model.fit(train_features, train_y, early_stopping_rounds=100, eval_set = [(valid_features, valid_y)],eval_metric = 'auc', verbose = 200)\n",
        "    \n",
        "    # Record the feature importances\n",
        "    feature_importances += model.feature_importances_"
      ],
      "execution_count": 0,
      "outputs": [
        {
          "output_type": "stream",
          "text": [
            "Training until validation scores don't improve for 100 rounds\n",
            "Early stopping, best iteration is:\n",
            "[95]\tvalid_0's auc: 0.891818\tvalid_0's binary_logloss: 0.360112\n",
            "Training until validation scores don't improve for 100 rounds\n",
            "Early stopping, best iteration is:\n",
            "[88]\tvalid_0's auc: 0.889283\tvalid_0's binary_logloss: 0.364906\n"
          ],
          "name": "stdout"
        }
      ]
    },
    {
      "cell_type": "code",
      "metadata": {
        "id": "pyQyhNYMZv3A",
        "colab_type": "code",
        "colab": {},
        "outputId": "11d3852a-e429-4f88-bd3f-23f8d8186e3b"
      },
      "source": [
        "feature_importances = feature_importances / 2\n",
        "feature_importances = pd.DataFrame({'feature': list(x.columns), 'importance': feature_importances}).sort_values('importance', ascending = False)\n",
        "feature_importances.head()"
      ],
      "execution_count": 0,
      "outputs": [
        {
          "output_type": "execute_result",
          "data": {
            "text/html": [
              "<div>\n",
              "<style scoped>\n",
              "    .dataframe tbody tr th:only-of-type {\n",
              "        vertical-align: middle;\n",
              "    }\n",
              "\n",
              "    .dataframe tbody tr th {\n",
              "        vertical-align: top;\n",
              "    }\n",
              "\n",
              "    .dataframe thead th {\n",
              "        text-align: right;\n",
              "    }\n",
              "</style>\n",
              "<table border=\"1\" class=\"dataframe\">\n",
              "  <thead>\n",
              "    <tr style=\"text-align: right;\">\n",
              "      <th></th>\n",
              "      <th>feature</th>\n",
              "      <th>importance</th>\n",
              "    </tr>\n",
              "  </thead>\n",
              "  <tbody>\n",
              "    <tr>\n",
              "      <td>66</td>\n",
              "      <td>apache_4a_hospital_death_prob</td>\n",
              "      <td>79.25</td>\n",
              "    </tr>\n",
              "    <tr>\n",
              "      <td>29</td>\n",
              "      <td>d1_heartrate_min</td>\n",
              "      <td>52.50</td>\n",
              "    </tr>\n",
              "    <tr>\n",
              "      <td>35</td>\n",
              "      <td>d1_spo2_min</td>\n",
              "      <td>45.25</td>\n",
              "    </tr>\n",
              "    <tr>\n",
              "      <td>0</td>\n",
              "      <td>age</td>\n",
              "      <td>44.25</td>\n",
              "    </tr>\n",
              "    <tr>\n",
              "      <td>8</td>\n",
              "      <td>apache_3j_diagnosis</td>\n",
              "      <td>38.50</td>\n",
              "    </tr>\n",
              "  </tbody>\n",
              "</table>\n",
              "</div>"
            ],
            "text/plain": [
              "                          feature  importance\n",
              "66  apache_4a_hospital_death_prob       79.25\n",
              "29               d1_heartrate_min       52.50\n",
              "35                    d1_spo2_min       45.25\n",
              "0                             age       44.25\n",
              "8             apache_3j_diagnosis       38.50"
            ]
          },
          "metadata": {
            "tags": []
          },
          "execution_count": 21
        }
      ]
    },
    {
      "cell_type": "code",
      "metadata": {
        "id": "Ac7CuOzwZv3D",
        "colab_type": "code",
        "colab": {},
        "outputId": "1fe85fdf-1566-4d69-acc7-50ff64fbdc37"
      },
      "source": [
        "zero_features = list(feature_importances[feature_importances['importance'] == 0.0]['feature'])\n",
        "print('There are %d features with 0.0 importance' % len(zero_features))\n",
        "feature_importances.tail()\n",
        "# Drop features with zero importance\n",
        "x = x.drop(columns = zero_features)"
      ],
      "execution_count": 0,
      "outputs": [
        {
          "output_type": "stream",
          "text": [
            "There are 5 features with 0.0 importance\n"
          ],
          "name": "stdout"
        }
      ]
    },
    {
      "cell_type": "code",
      "metadata": {
        "id": "JCaG2nJyZv3G",
        "colab_type": "code",
        "colab": {}
      },
      "source": [
        "def plot_feature_importances(df, threshold = 0.9):\n",
        "    \n",
        "    plt.rcParams['font.size'] = 18\n",
        "    \n",
        "    # Sort features according to importance\n",
        "    df = df.sort_values('importance', ascending = False).reset_index()\n",
        "    \n",
        "    # Normalize the feature importances to add up to one\n",
        "    df['importance_normalized'] = df['importance'] / df['importance'].sum()\n",
        "    df['cumulative_importance'] = np.cumsum(df['importance_normalized'])\n",
        "\n",
        "    # Make a horizontal bar chart of feature importances\n",
        "    plt.figure(figsize = (10, 6))\n",
        "    ax = plt.subplot()\n",
        "     # Need to reverse the index to plot most important on top\n",
        "    ax.barh(list(reversed(list(df.index[:15]))), \n",
        "            df['importance_normalized'].head(15), \n",
        "            align = 'center', edgecolor = 'k')\n",
        "    \n",
        "    # Set the yticks and labels\n",
        "    ax.set_yticks(list(reversed(list(df.index[:15]))))\n",
        "    ax.set_yticklabels(df['feature'].head(15))\n",
        "    \n",
        "    # Plot labeling\n",
        "    plt.xlabel('Normalized Importance'); plt.title('Feature Importances')\n",
        "    plt.show()\n",
        "    \n",
        "    # Cumulative importance plot\n",
        "    plt.figure(figsize = (8, 6))\n",
        "    plt.plot(list(range(len(df))), df['cumulative_importance'], 'r-')\n",
        "    plt.xlabel('Number of Features'); plt.ylabel('Cumulative Importance'); \n",
        "    plt.title('Cumulative Feature Importance');\n",
        "    plt.show();\n",
        "    \n",
        "    importance_index = np.min(np.where(df['cumulative_importance'] > threshold))\n",
        "    print('%d features required for %0.2f of cumulative importance' % (importance_index + 1, threshold))\n",
        "    return df"
      ],
      "execution_count": 0,
      "outputs": []
    },
    {
      "cell_type": "code",
      "metadata": {
        "id": "3RG3GaeAZv3J",
        "colab_type": "code",
        "colab": {},
        "outputId": "8c8546a9-4aa9-4444-b405-17f8f23130c1"
      },
      "source": [
        "norm_feature_importances = plot_feature_importances(feature_importances)"
      ],
      "execution_count": 0,
      "outputs": [
        {
          "output_type": "display_data",
          "data": {
            "image/png": "[encoded data removed]",
            "text/plain": [
              "<Figure size 720x432 with 1 Axes>"
            ]
          },
          "metadata": {
            "tags": [],
            "needs_background": "light"
          }
        },
        {
          "output_type": "display_data",
          "data": {
            "image/png": "[encoded data removed]",
            "text/plain": [
              "<Figure size 576x432 with 1 Axes>"
            ]
          },
          "metadata": {
            "tags": [],
            "needs_background": "light"
          }
        },
        {
          "output_type": "stream",
          "text": [
            "50 features required for 0.90 of cumulative importance\n"
          ],
          "name": "stdout"
        }
      ]
    },
    {
      "cell_type": "markdown",
      "metadata": {
        "id": "P0TRvF88Zv3N",
        "colab_type": "text"
      },
      "source": [
        "## Prueba F de Fisher"
      ]
    },
    {
      "cell_type": "code",
      "metadata": {
        "id": "z05us-APZv3O",
        "colab_type": "code",
        "colab": {},
        "outputId": "c92fd5a3-e64a-46fb-ab56-fb13cbb9a53c"
      },
      "source": [
        "# Aplicando el algoritmo univariante de prueba F.\n",
        "k = 50  # número de atributos a seleccionar\n",
        "entrenar = data.drop(['hospital_death'], axis=1)\n",
        "columnas = list(entrenar.columns.values)\n",
        "seleccionadas = SelectKBest(f_classif, k=k).fit(entrenar, y)\n",
        "\n",
        "atrib = seleccionadas.get_support()\n",
        "atributos = [columnas[i] for i in list(atrib.nonzero()[0])]"
      ],
      "execution_count": 0,
      "outputs": [
        {
          "output_type": "stream",
          "text": [
            "C:\\Users\\viole\\Anaconda3\\lib\\site-packages\\sklearn\\feature_selection\\_univariate_selection.py:114: UserWarning:\n",
            "\n",
            "Features [5] are constant.\n",
            "\n",
            "C:\\Users\\viole\\Anaconda3\\lib\\site-packages\\sklearn\\feature_selection\\_univariate_selection.py:115: RuntimeWarning:\n",
            "\n",
            "invalid value encountered in true_divide\n",
            "\n"
          ],
          "name": "stderr"
        }
      ]
    },
    {
      "cell_type": "markdown",
      "metadata": {
        "id": "VwyA8N-3Zv3R",
        "colab_type": "text"
      },
      "source": [
        "## Eliminación Recursiva de atributos"
      ]
    },
    {
      "cell_type": "code",
      "metadata": {
        "id": "DHSfmvMDZv3S",
        "colab_type": "code",
        "colab": {}
      },
      "source": [
        "modelo = ExtraTreesClassifier()\n",
        "era = RFE(modelo, 52)  # número de atributos a seleccionar\n",
        "era = era.fit(entrenar, y)\n",
        "\n",
        "atrib = era.support_\n",
        "atributos = [columnas[i] for i in list(atrib.nonzero()[0])]"
      ],
      "execution_count": 0,
      "outputs": []
    },
    {
      "cell_type": "markdown",
      "metadata": {
        "id": "bugK5orIZv3X",
        "colab_type": "text"
      },
      "source": [
        "-------"
      ]
    },
    {
      "cell_type": "markdown",
      "metadata": {
        "id": "CJW-smtCZv3Y",
        "colab_type": "text"
      },
      "source": [
        "# Umbalanced"
      ]
    },
    {
      "cell_type": "code",
      "metadata": {
        "id": "FSBK6NrHZv3Y",
        "colab_type": "code",
        "colab": {}
      },
      "source": [
        ""
      ],
      "execution_count": 0,
      "outputs": []
    },
    {
      "cell_type": "markdown",
      "metadata": {
        "id": "fjrWAT0rZv3b",
        "colab_type": "text"
      },
      "source": [
        "-------"
      ]
    },
    {
      "cell_type": "markdown",
      "metadata": {
        "id": "MDQAFQMRZv3b",
        "colab_type": "text"
      },
      "source": [
        "# Classification"
      ]
    },
    {
      "cell_type": "markdown",
      "metadata": {
        "id": "Oo9mtyvqZv3c",
        "colab_type": "text"
      },
      "source": [
        "## LDA (Fisher)"
      ]
    },
    {
      "cell_type": "code",
      "metadata": {
        "id": "u1g-PDCDZv3c",
        "colab_type": "code",
        "colab": {}
      },
      "source": [
        "from sklearn.discriminant_analysis import LinearDiscriminantAnalysis\n",
        "from sklearn.model_selection import cross_val_score\n",
        "from sklearn.model_selection import KFold"
      ],
      "execution_count": 0,
      "outputs": []
    },
    {
      "cell_type": "code",
      "metadata": {
        "id": "tFSZvjTFZv3f",
        "colab_type": "code",
        "colab": {}
      },
      "source": [
        "kf = KFold(n_splits=5)\n",
        "clf = LinearDiscriminantAnalysis(n_components=2)\n",
        "clf.fit(x_train, y_train)\n",
        "score = clf.score(x_train,y_train)"
      ],
      "execution_count": 0,
      "outputs": []
    },
    {
      "cell_type": "code",
      "metadata": {
        "id": "FDY70bALZv3i",
        "colab_type": "code",
        "colab": {}
      },
      "source": [
        "scores = cross_val_score(clf, x_train, y_train, cv=kf, scoring=\"roc_auc\")\n",
        "print(\"Metricas cross_validation\", scores)\n",
        "print(\"Media de cross_validation\", scores.mean())"
      ],
      "execution_count": 0,
      "outputs": []
    },
    {
      "cell_type": "code",
      "metadata": {
        "id": "Wgfd8jtqZv3m",
        "colab_type": "code",
        "colab": {}
      },
      "source": [
        "from sklearn import metrics\n",
        "\n",
        "cnf_matrix = metrics.confusion_matrix(y_test, y_pred)\n",
        "print(\"Accuracy normalizando:\",metrics.accuracy_score(y_test,y_pred))\n",
        "print(cnf_matrix)"
      ],
      "execution_count": 0,
      "outputs": []
    },
    {
      "cell_type": "code",
      "metadata": {
        "id": "hhopjdxrZv3p",
        "colab_type": "code",
        "colab": {}
      },
      "source": [
        "y_pred_proba = clf.predict_proba(x_test)[::,1]\n",
        "fpr, tpr, _ = metrics.roc_curve(y_test,  y_pred_proba)\n",
        "auc = metrics.roc_auc_score(y_test, y_pred_proba)\n",
        "plt.plot(fpr,tpr,label=\"data 1, auc=\"+str(auc))\n",
        "plt.legend(loc=4)\n",
        "plt.show()"
      ],
      "execution_count": 0,
      "outputs": []
    },
    {
      "cell_type": "markdown",
      "metadata": {
        "id": "AzYq6ErMZv3r",
        "colab_type": "text"
      },
      "source": [
        "## Mayoría de votos"
      ]
    },
    {
      "cell_type": "code",
      "metadata": {
        "id": "nMA9NGXUZv3s",
        "colab_type": "code",
        "colab": {}
      },
      "source": [
        "from sklearn.ensemble import RandomForestClassifier,GradientBoostingClassifier ,VotingClassifier\n",
        "# Random Forest Classifier\n",
        "RFC = RandomForestClassifier(n_estimators=100)\n",
        "# Gradient Boosting Classifier\n",
        "GBC = GradientBoostingClassifier(random_state=1)\n",
        "# Voting Classifier with soft voting \n",
        "votingC = VotingClassifier(estimators=[('rfc', RFC),('gbc',GBC)], voting='soft')\n",
        "votingC = votingC.fit(x_train, y_train)\n",
        "y_pred = votingC.predict(x_test)"
      ],
      "execution_count": 0,
      "outputs": []
    },
    {
      "cell_type": "code",
      "metadata": {
        "id": "UU7hqhTfZv3u",
        "colab_type": "code",
        "colab": {}
      },
      "source": [
        "cnf_matrix = metrics.confusion_matrix(y_test, y_pred)\n",
        "print(\"Accuracy:\",metrics.accuracy_score(y_test,y_pred))\n",
        "print(cnf_matrix)"
      ],
      "execution_count": 0,
      "outputs": []
    },
    {
      "cell_type": "code",
      "metadata": {
        "id": "tI2WZ4KRZv3x",
        "colab_type": "code",
        "colab": {}
      },
      "source": [
        "y_pred_proba = votingC.predict_proba(x_test)[::,1]\n",
        "fpr, tpr, _ = metrics.roc_curve(y_test,  y_pred_proba)\n",
        "auc = metrics.roc_auc_score(y_test, y_pred_proba)\n",
        "plt.plot(fpr,tpr,label=\"data 1, auc=\"+str(auc))\n",
        "plt.legend(loc=4)\n",
        "plt.show()"
      ],
      "execution_count": 0,
      "outputs": []
    },
    {
      "cell_type": "markdown",
      "metadata": {
        "id": "Drgkwv7mZv30",
        "colab_type": "text"
      },
      "source": [
        "## Boosted Trees"
      ]
    },
    {
      "cell_type": "code",
      "metadata": {
        "id": "s6nXi5qEZv30",
        "colab_type": "code",
        "colab": {}
      },
      "source": [
        "clf = GBC.fit(x_train, y_train)\n",
        "y_pred = clf.predict(x_test)"
      ],
      "execution_count": 0,
      "outputs": []
    },
    {
      "cell_type": "code",
      "metadata": {
        "id": "lqCXF1UqZv33",
        "colab_type": "code",
        "colab": {}
      },
      "source": [
        "cnf_matrix = metrics.confusion_matrix(y_test, y_pred)\n",
        "print(\"Accuracy:\",metrics.accuracy_score(y_test,y_pred))\n",
        "print(cnf_matrix)"
      ],
      "execution_count": 0,
      "outputs": []
    },
    {
      "cell_type": "code",
      "metadata": {
        "id": "kRhie9vwZv37",
        "colab_type": "code",
        "colab": {}
      },
      "source": [
        "y_pred_proba = clf.predict_proba(x_test)[::,1]\n",
        "fpr, tpr, _ = metrics.roc_curve(y_test,  y_pred_proba)\n",
        "auc = metrics.roc_auc_score(y_test, y_pred_proba)\n",
        "plt.plot(fpr,tpr,label=\"data 1, auc=\"+str(auc))\n",
        "plt.legend(loc=4)\n",
        "plt.show()"
      ],
      "execution_count": 0,
      "outputs": []
    },
    {
      "cell_type": "markdown",
      "metadata": {
        "id": "FcCIYGDgZv39",
        "colab_type": "text"
      },
      "source": [
        "## Random Forest"
      ]
    },
    {
      "cell_type": "code",
      "metadata": {
        "id": "K-pTwrl0Zv3-",
        "colab_type": "code",
        "colab": {}
      },
      "source": [
        "clf = RFC.fit(x_train, y_train)\n",
        "y_pred = clf.predict(x_test)"
      ],
      "execution_count": 0,
      "outputs": []
    },
    {
      "cell_type": "code",
      "metadata": {
        "id": "eIjwsL2AZv4B",
        "colab_type": "code",
        "colab": {}
      },
      "source": [
        "cnf_matrix = metrics.confusion_matrix(y_test, y_pred)\n",
        "print(\"Accuracy normalizando:\",metrics.accuracy_score(y_test,y_pred))\n",
        "print(cnf_matrix)"
      ],
      "execution_count": 0,
      "outputs": []
    },
    {
      "cell_type": "code",
      "metadata": {
        "id": "WFpDUbzfZv4E",
        "colab_type": "code",
        "colab": {}
      },
      "source": [
        "y_pred_proba = clf.predict_proba(x_test)[::,1]\n",
        "fpr, tpr, _ = metrics.roc_curve(y_test,  y_pred_proba)\n",
        "auc = metrics.roc_auc_score(y_test, y_pred_proba)\n",
        "plt.plot(fpr,tpr,label=\"data 1, auc=\"+str(auc))\n",
        "plt.legend(loc=4)\n",
        "plt.show()"
      ],
      "execution_count": 0,
      "outputs": []
    },
    {
      "cell_type": "markdown",
      "metadata": {
        "id": "6g1lFPp8Zv4I",
        "colab_type": "text"
      },
      "source": [
        "## SVM (support vector machine)"
      ]
    },
    {
      "cell_type": "code",
      "metadata": {
        "id": "gIys3g2bZv4I",
        "colab_type": "code",
        "colab": {}
      },
      "source": [
        "from sklearn import svm\n",
        "svm_clf = svm.SVC(kernel='linear') # Linear Kernel"
      ],
      "execution_count": 0,
      "outputs": []
    },
    {
      "cell_type": "code",
      "metadata": {
        "id": "p5dUJpO6Zv4M",
        "colab_type": "code",
        "colab": {}
      },
      "source": [
        "svm_clf.fit(x_train, y_train)"
      ],
      "execution_count": 0,
      "outputs": []
    },
    {
      "cell_type": "code",
      "metadata": {
        "id": "M7266NMuZv4Q",
        "colab_type": "code",
        "colab": {}
      },
      "source": [
        "y_pred = svm_clf.predict(x_test)"
      ],
      "execution_count": 0,
      "outputs": []
    },
    {
      "cell_type": "code",
      "metadata": {
        "id": "bFiwt8NXZv4V",
        "colab_type": "code",
        "colab": {}
      },
      "source": [
        "cnf_matrix = metrics.confusion_matrix(y_test, y_pred)\n",
        "print(\"Accuracy normalizando:\",metrics.accuracy_score(y_test,y_pred))\n",
        "print(cnf_matrix)"
      ],
      "execution_count": 0,
      "outputs": []
    },
    {
      "cell_type": "code",
      "metadata": {
        "id": "wAdahePfZv4Y",
        "colab_type": "code",
        "colab": {}
      },
      "source": [
        "y_pred_proba = clf.predict_proba(x_test)[::,1]\n",
        "fpr, tpr, _ = metrics.roc_curve(y_test,  y_pred_proba)\n",
        "auc = metrics.roc_auc_score(y_test, y_pred_proba)\n",
        "plt.plot(fpr,tpr,label=\"data 1, auc=\"+str(auc))\n",
        "plt.legend(loc=4)\n",
        "plt.show()"
      ],
      "execution_count": 0,
      "outputs": []
    },
    {
      "cell_type": "code",
      "metadata": {
        "id": "mL0YCL1PZv4b",
        "colab_type": "code",
        "colab": {}
      },
      "source": [
        ""
      ],
      "execution_count": 0,
      "outputs": []
    },
    {
      "cell_type": "code",
      "metadata": {
        "id": "NySW5bLEZv4h",
        "colab_type": "code",
        "colab": {}
      },
      "source": [
        ""
      ],
      "execution_count": 0,
      "outputs": []
    }
  ]
}